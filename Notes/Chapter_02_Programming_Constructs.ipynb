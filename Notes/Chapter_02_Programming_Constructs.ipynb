{
 "cells": [
  {
   "cell_type": "markdown",
   "metadata": {},
   "source": [
    "# Learning Objectives\n",
    "\n",
    "- [ ]  2.2.3 Apply the fundamental programming constructs to control the flow of program execution:\n",
    "     * Sequence\n",
    "     * Selection\n",
    "     * Iteration \n",
    "\n",
    "[![Open In Colab](https://colab.research.google.com/assets/colab-badge.svg)](https://colab.research.google.com/github/njc-cz2-2021/Materials/blob/main/Notes/Chapter_02_Programming_Constructs.ipynb) \n",
    "\n",
    "# References\n",
    "\n",
    "1. https://realpython.com/python-while-loop/#the-python-break-and-continue-statements"
   ]
  },
  {
   "cell_type": "markdown",
   "metadata": {},
   "source": [
    "# 2 Programming Constructs\n",
    "\n",
    ">A programming construct is an abstract way of describing a concept in terms of the syntax of programming language. These constructs are building blocks that forms the basis of all programs. \n",
    "\n",
    "These are basic programming constructs that we need to know:\n",
    "\n",
    "- Sequence,\n",
    "- Assignment,\n",
    "- Selection,\n",
    "- Iteration.\n",
    "\n",
    "We will explore the Assignment and Selection Construct in the sections below.\n",
    "\n",
    "## 2.0 Programming Construct : Sequence\n",
    "\n",
    "The most general construct of programming corresponds to the sequence of instructions, or more specifically, the sequence of statements that are specified within the program code.\n",
    "\n",
    "## 2.1 Programming Construct : Assignment\n",
    "\n",
    "In order to process data, we typically need to store it in computer memory. This is done via the use of variables. You might be familiar with variables given their use in mathematics. However, variables in mathematics and computing are different.\n",
    "\n",
    "In computing, a variable corresponds to an identifier that references a unit of data in computer memory.\n",
    "\n",
    "In order to define a variable, we must utilise the first programming construct: an **assignment statement**.\n",
    "\n",
    "To understand how assignment and variables work, let us refer to the following example:\n",
    "\n",
    ">```python\n",
    ">#x is the variable, 100 is the data, ← is the assignment operator\n",
    ">#and the whole line below is the assignment statement\n",
    ">x ← 100\n",
    ">```\n",
    "\n",
    "The above is a typical assignment statement. We are specifying a variable, i.e., an identifier `x`, which will reference some part of the computer’s memory, and in that segment of computer memory, store the integer value `100`.\n",
    "\n",
    "Essentially, the assignment statement does 3 things:\n",
    "\n",
    "1. Stores the variable identifier in an identifier table\n",
    "2. Allocates computer memory for the storage of the data type value specified; the memory allocated will correspond to some specific location in memory - i.e., a memory address\n",
    "3. Links the variable identifier to the computer memory location\n",
    "\n",
    "In this manner, whenever the variable is used, the computer knows that we are referring to the value that is stored in the associated location in computer memory.\n",
    "\n",
    "Assignment also allows programmers to:\n",
    "\n",
    "1. Assign new values to a variable\n",
    "2. Copy variable values\n",
    "3. Swap values between variables\n",
    "\n",
    "It should also be noted that when assigning a value, that value may be computed using expressions consisting of arithmetic, logical, comparison and/or string operations. For example:\n",
    "\n",
    ">```python\n",
    ">x ← 10+20\n",
    ">```\n",
    "\n",
    "Such expressions can, and or course, often do include the specification of other variables. For example:\n",
    "\n",
    ">```python\n",
    ">result ← a*x**2 + b*x + c\n",
    ">```\n",
    "\n",
    "In Python, the assignment operator is `=` , which should not be confused with the equal sign $=$ from mathematics.\n",
    "\n",
    "In Python, we can do multivariable assignment in a single line too. Example:\n",
    ">```python\n",
    "> a,b = 10, 20\n",
    "> a,b = b, a\n",
    ">```\n",
    "\n",
    "### 2.1.1 Python Naming Conventions and some Formatting Standards\n",
    "\n",
    "To prevent conflict and to keep consistency between programs, programming languages normally has some naming conventions for the variables, please check [https://www.python.org/dev/peps/pep-0008/#naming-conventions](https://www.python.org/dev/peps/pep-0008/) for updated style guide for python. For example, never use the characters `l` (lowercase letter el), `O` (uppercase letter oh), or `I` (uppercase letter eye) as single character variable names. In some fonts, these characters are indistinguishable from the numerals one and zero. When tempted to use `l`, use `L` instead.\n",
    "\n",
    "Legal variable names of a variable in Python :\n",
    "- Cannot begin with a digit\n",
    "- Cannot include operator symbols\n",
    "- Cannot be reserved words (e.g., `or`, `and`, `not`, `in`, `is`, `def`, `return`, `pass`, `break`, `continue`)\n",
    "- Should not be built-in function names (e.g., `print`, `input`, `range`, `len`, `min`, `max`, `int`, `str`)\n",
    " "
   ]
  },
  {
   "cell_type": "markdown",
   "metadata": {},
   "source": [
    "#### Exercise 2.1\n",
    "\n",
    "What is the output of the following code?\n",
    "\n",
    ">```python\n",
    ">a = 5 \n",
    ">b = a + 7 \n",
    ">a = 10 \n",
    ">print(str(b))\n",
    ">```"
   ]
  },
  {
   "cell_type": "markdown",
   "metadata": {},
   "source": [
    "##### Answer"
   ]
  },
  {
   "cell_type": "code",
   "execution_count": null,
   "metadata": {},
   "outputs": [],
   "source": [
    "\"12\""
   ]
  },
  {
   "cell_type": "markdown",
   "metadata": {},
   "source": [
    "#### Exercise 2.2\n",
    "\n",
    "The Python interpreter has strict rules for variable names. Which of the following are legal Python variable names? If the name is not legal, state the reason.\n",
    "\n",
    "1. `and`\n",
    "2. `_and`\n",
    "3. `Var`\n",
    "4. `var1`\n",
    "5. `1var`\n",
    "6. `my-name`\n",
    "7. `your_name`\n",
    "8. `COLOUR`"
   ]
  },
  {
   "cell_type": "markdown",
   "metadata": {},
   "source": [
    "##### Answer"
   ]
  },
  {
   "cell_type": "raw",
   "metadata": {},
   "source": [
    "1. Illegal, 'and' is a reserved word\n",
    "2. Legal\n",
    "3. Legal\n",
    "4. Legal\n",
    "5. Illegal, name cannot start with a number\n",
    "6. Illegal, name cannot have the operator '-'\n",
    "7. Legal\n",
    "8. Legal"
   ]
  },
  {
   "cell_type": "markdown",
   "metadata": {},
   "source": [
    "## 2.2 Programming Construct : Selection\n",
    "Often, a program consisting of a sequence of statements is insufficient. This is because it is common to face a problem that requires the execution of different sets of statements dependent upon the current state of the data.\n",
    "\n",
    "To remedy this, we utilise the selection programming construct.\n",
    "\n",
    "With the selection programming construct, a query/condition is evaluated. Depending on its result, the program will take one of two possible courses of action. As such, the selection construct is typically referred to as an `if-else` statement (or `if` statement for short), which selects different sets of statements to execute.\n",
    "\n",
    "For example:\n",
    "\n",
    ">```coffeescript\n",
    ">INPUT x\n",
    ">IF x ≥ 50\n",
    ">    THEN\n",
    ">        OUTPUT “PASS”\n",
    ">        OUTPUT “Well done!”\n",
    ">    ELSE\n",
    ">        OUTPUT “FAIL”\n",
    ">        OUTPUT “Please try harder.”\n",
    ">ENDIF\n",
    ">```\n",
    "\n",
    "It should be noted that it is common practice to indent the statements within the `if` or `else` parts of an `if` statement so that it is easier to read the code.\n",
    "\n",
    "Finally, it should also be noted that `if` statements may be nested, i.e., the statements in the `if` or `else` parts may themselves include another `if` statement.\n",
    "\n",
    "In Python, the `if` block follows the structure below:\n",
    "\n",
    ">```python\n",
    ">if <condition_1>:\n",
    ">    <action_1>\n",
    ">elif <condition_2>: #if statements do not always need to be accompanied by elif and else\n",
    ">    <action_2>\n",
    ">else:\n",
    ">    <action_3>\n",
    ">```"
   ]
  },
  {
   "cell_type": "markdown",
   "metadata": {},
   "source": [
    "#### Example 2.3\n",
    "\n",
    "Write a program that helps the user to convert a given integer from 0 to 100 inclusive to a grade. \n",
    " \n",
    "The problem: \n",
    "-\tRequest a quantity from the user. \n",
    "-\tif the input quantity is greater or equal to 70, print `A`,\n",
    "-\tif the input quantity is between 60 and 69 inclusive, print `B`,\n",
    "-\tif the input quantity is between 55 and 59 inclusive, print `C`,\n",
    "-\tif the input quantity is between 50 and 54 inclusive, print `D`,\n",
    "-\tif the input quantity is between 45 and 49 inclusive, print `E`,\n",
    "-\tif the input quantity is between 40 and 44 inclusive, print `S`,\n",
    "-\totherwise, print `U`.\n",
    "\n",
    "Example interaction:\n",
    ">Enter mark: 75 <br>\n",
    ">A"
   ]
  },
  {
   "cell_type": "markdown",
   "metadata": {},
   "source": [
    "##### Answer"
   ]
  },
  {
   "cell_type": "code",
   "execution_count": 15,
   "metadata": {},
   "outputs": [
    {
     "name": "stdout",
     "output_type": "stream",
     "text": [
      "Invalid\n"
     ]
    }
   ],
   "source": [
    "mark = input(\"Enter mark: \")\n",
    "try:\n",
    "    mark = int(mark)\n",
    "except:\n",
    "    print(\"Invalid\")\n",
    "else:\n",
    "    ranges = [100, 69, 59, 54, 49, 44, 39, -1]\n",
    "    grades = [\"Invalid\", \"A\", \"B\", \"C\", \"D\", \"E\", \"S\", \"U\"]\n",
    "    for i in range(len(ranges)):\n",
    "        if mark > ranges[i]:\n",
    "            print(grades[i])\n",
    "            break\n",
    "    else:\n",
    "        print(\"Invalid\")"
   ]
  },
  {
   "cell_type": "markdown",
   "metadata": {},
   "source": [
    "#### Exercise 2.4\n",
    "Show that for any integer $n$, $n^5$ and $n$ always have the same last digit."
   ]
  },
  {
   "cell_type": "markdown",
   "metadata": {},
   "source": [
    "##### Answer"
   ]
  },
  {
   "cell_type": "code",
   "execution_count": 20,
   "metadata": {},
   "outputs": [
    {
     "name": "stdout",
     "output_type": "stream",
     "text": [
      "n = 0\n",
      "n^5 is 0\n",
      "last digit is 0\n",
      "n = 1\n",
      "n^5 is 1\n",
      "last digit is 1\n",
      "n = 2\n",
      "n^5 is 32\n",
      "last digit is 2\n",
      "n = 3\n",
      "n^5 is 243\n",
      "last digit is 3\n",
      "n = 4\n",
      "n^5 is 1024\n",
      "last digit is 4\n",
      "n = 5\n",
      "n^5 is 3125\n",
      "last digit is 5\n",
      "n = 6\n",
      "n^5 is 7776\n",
      "last digit is 6\n",
      "n = 7\n",
      "n^5 is 16807\n",
      "last digit is 7\n",
      "n = 8\n",
      "n^5 is 32768\n",
      "last digit is 8\n",
      "n = 9\n",
      "n^5 is 59049\n",
      "last digit is 9\n",
      "n = 10\n",
      "n^5 is 100000\n",
      "last digit is 0\n",
      "n = 11\n",
      "n^5 is 161051\n",
      "last digit is 1\n",
      "n = 12\n",
      "n^5 is 248832\n",
      "last digit is 2\n",
      "n = 13\n",
      "n^5 is 371293\n",
      "last digit is 3\n",
      "n = 14\n",
      "n^5 is 537824\n",
      "last digit is 4\n",
      "n = 15\n",
      "n^5 is 759375\n",
      "last digit is 5\n",
      "n = 16\n",
      "n^5 is 1048576\n",
      "last digit is 6\n",
      "n = 17\n",
      "n^5 is 1419857\n",
      "last digit is 7\n",
      "n = 18\n",
      "n^5 is 1889568\n",
      "last digit is 8\n",
      "n = 19\n",
      "n^5 is 2476099\n",
      "last digit is 9\n",
      "n = 20\n",
      "n^5 is 3200000\n",
      "last digit is 0\n",
      "n = 21\n",
      "n^5 is 4084101\n",
      "last digit is 1\n",
      "n = 22\n",
      "n^5 is 5153632\n",
      "last digit is 2\n",
      "n = 23\n",
      "n^5 is 6436343\n",
      "last digit is 3\n",
      "n = 24\n",
      "n^5 is 7962624\n",
      "last digit is 4\n",
      "n = 25\n",
      "n^5 is 9765625\n",
      "last digit is 5\n",
      "n = 26\n",
      "n^5 is 11881376\n",
      "last digit is 6\n",
      "n = 27\n",
      "n^5 is 14348907\n",
      "last digit is 7\n",
      "n = 28\n",
      "n^5 is 17210368\n",
      "last digit is 8\n",
      "n = 29\n",
      "n^5 is 20511149\n",
      "last digit is 9\n",
      "n = 30\n",
      "n^5 is 24300000\n",
      "last digit is 0\n",
      "n = 31\n",
      "n^5 is 28629151\n",
      "last digit is 1\n",
      "n = 32\n",
      "n^5 is 33554432\n",
      "last digit is 2\n",
      "n = 33\n",
      "n^5 is 39135393\n",
      "last digit is 3\n",
      "n = 34\n",
      "n^5 is 45435424\n",
      "last digit is 4\n",
      "n = 35\n",
      "n^5 is 52521875\n",
      "last digit is 5\n",
      "n = 36\n",
      "n^5 is 60466176\n",
      "last digit is 6\n",
      "n = 37\n",
      "n^5 is 69343957\n",
      "last digit is 7\n",
      "n = 38\n",
      "n^5 is 79235168\n",
      "last digit is 8\n",
      "n = 39\n",
      "n^5 is 90224199\n",
      "last digit is 9\n",
      "n = 40\n",
      "n^5 is 102400000\n",
      "last digit is 0\n",
      "n = 41\n",
      "n^5 is 115856201\n",
      "last digit is 1\n",
      "n = 42\n",
      "n^5 is 130691232\n",
      "last digit is 2\n",
      "n = 43\n",
      "n^5 is 147008443\n",
      "last digit is 3\n",
      "n = 44\n",
      "n^5 is 164916224\n",
      "last digit is 4\n",
      "n = 45\n",
      "n^5 is 184528125\n",
      "last digit is 5\n",
      "n = 46\n",
      "n^5 is 205962976\n",
      "last digit is 6\n",
      "n = 47\n",
      "n^5 is 229345007\n",
      "last digit is 7\n",
      "n = 48\n",
      "n^5 is 254803968\n",
      "last digit is 8\n",
      "n = 49\n",
      "n^5 is 282475249\n",
      "last digit is 9\n",
      "n = 50\n",
      "n^5 is 312500000\n",
      "last digit is 0\n",
      "n = 51\n",
      "n^5 is 345025251\n",
      "last digit is 1\n",
      "n = 52\n",
      "n^5 is 380204032\n",
      "last digit is 2\n",
      "n = 53\n",
      "n^5 is 418195493\n",
      "last digit is 3\n",
      "n = 54\n",
      "n^5 is 459165024\n",
      "last digit is 4\n",
      "n = 55\n",
      "n^5 is 503284375\n",
      "last digit is 5\n",
      "n = 56\n",
      "n^5 is 550731776\n",
      "last digit is 6\n",
      "n = 57\n",
      "n^5 is 601692057\n",
      "last digit is 7\n",
      "n = 58\n",
      "n^5 is 656356768\n",
      "last digit is 8\n",
      "n = 59\n",
      "n^5 is 714924299\n",
      "last digit is 9\n",
      "n = 60\n",
      "n^5 is 777600000\n",
      "last digit is 0\n",
      "n = 61\n",
      "n^5 is 844596301\n",
      "last digit is 1\n",
      "n = 62\n",
      "n^5 is 916132832\n",
      "last digit is 2\n",
      "n = 63\n",
      "n^5 is 992436543\n",
      "last digit is 3\n",
      "n = 64\n",
      "n^5 is 1073741824\n",
      "last digit is 4\n",
      "n = 65\n",
      "n^5 is 1160290625\n",
      "last digit is 5\n",
      "n = 66\n",
      "n^5 is 1252332576\n",
      "last digit is 6\n",
      "n = 67\n",
      "n^5 is 1350125107\n",
      "last digit is 7\n",
      "n = 68\n",
      "n^5 is 1453933568\n",
      "last digit is 8\n",
      "n = 69\n",
      "n^5 is 1564031349\n",
      "last digit is 9\n",
      "n = 70\n",
      "n^5 is 1680700000\n",
      "last digit is 0\n",
      "n = 71\n",
      "n^5 is 1804229351\n",
      "last digit is 1\n",
      "n = 72\n",
      "n^5 is 1934917632\n",
      "last digit is 2\n",
      "n = 73\n",
      "n^5 is 2073071593\n",
      "last digit is 3\n",
      "n = 74\n",
      "n^5 is 2219006624\n",
      "last digit is 4\n",
      "n = 75\n",
      "n^5 is 2373046875\n",
      "last digit is 5\n",
      "n = 76\n",
      "n^5 is 2535525376\n",
      "last digit is 6\n",
      "n = 77\n",
      "n^5 is 2706784157\n",
      "last digit is 7\n",
      "n = 78\n",
      "n^5 is 2887174368\n",
      "last digit is 8\n",
      "n = 79\n",
      "n^5 is 3077056399\n",
      "last digit is 9\n",
      "n = 80\n",
      "n^5 is 3276800000\n",
      "last digit is 0\n",
      "n = 81\n",
      "n^5 is 3486784401\n",
      "last digit is 1\n",
      "n = 82\n",
      "n^5 is 3707398432\n",
      "last digit is 2\n",
      "n = 83\n",
      "n^5 is 3939040643\n",
      "last digit is 3\n",
      "n = 84\n",
      "n^5 is 4182119424\n",
      "last digit is 4\n",
      "n = 85\n",
      "n^5 is 4437053125\n",
      "last digit is 5\n",
      "n = 86\n",
      "n^5 is 4704270176\n",
      "last digit is 6\n",
      "n = 87\n",
      "n^5 is 4984209207\n",
      "last digit is 7\n",
      "n = 88\n",
      "n^5 is 5277319168\n",
      "last digit is 8\n",
      "n = 89\n",
      "n^5 is 5584059449\n",
      "last digit is 9\n",
      "n = 90\n",
      "n^5 is 5904900000\n",
      "last digit is 0\n",
      "n = 91\n",
      "n^5 is 6240321451\n",
      "last digit is 1\n",
      "n = 92\n",
      "n^5 is 6590815232\n",
      "last digit is 2\n",
      "n = 93\n",
      "n^5 is 6956883693\n",
      "last digit is 3\n",
      "n = 94\n",
      "n^5 is 7339040224\n",
      "last digit is 4\n",
      "n = 95\n",
      "n^5 is 7737809375\n",
      "last digit is 5\n",
      "n = 96\n",
      "n^5 is 8153726976\n",
      "last digit is 6\n",
      "n = 97\n",
      "n^5 is 8587340257\n",
      "last digit is 7\n",
      "n = 98\n",
      "n^5 is 9039207968\n",
      "last digit is 8\n",
      "n = 99\n",
      "n^5 is 9509900499\n",
      "last digit is 9\n"
     ]
    }
   ],
   "source": [
    "for n in range(100):\n",
    "    print(f\"n = {n}\")\n",
    "    print(f\"n^5 is {n**5}\")\n",
    "    print(f\"last digit is {n%10}\")"
   ]
  },
  {
   "attachments": {},
   "cell_type": "markdown",
   "metadata": {},
   "source": [
    "#### Exercise 2.5\n",
    "\n",
    "Consider the following code.\n",
    "\n",
    ">```python\n",
    ">x = input(\"Enter a positive integer value for x: \") \n",
    ">\n",
    ">if x > 10 and x % 6 == 3:\n",
    ">   print(\"a\", end = \"\")\n",
    ">elif x > 10 and x < 20:\n",
    ">   print(\"b\", end = \"\")\n",
    ">else:\n",
    ">   print(\"c\", end = \"\")\n",
    ">print(\"\")\n",
    ">```\n",
    "\n",
    "Given the following outputs, determine the corresponding value(s) for `x` that would have generated that output. If no values of a can produce the listed output, write none.\n",
    "\n",
    "1. `ab`\n",
    "2. `a`\n",
    "3. `b`\n",
    "4. `c`"
   ]
  },
  {
   "cell_type": "markdown",
   "metadata": {},
   "source": [
    "##### Answer"
   ]
  },
  {
   "cell_type": "raw",
   "metadata": {},
   "source": [
    "1. none\n",
    "2. 15\n",
    "3. 13\n",
    "4. 0"
   ]
  },
  {
   "cell_type": "markdown",
   "metadata": {},
   "source": [
    "## 2.3 Programming Constructs : Iteration\n",
    "\n",
    "The last programming construct is the iteration construct, which allows us to specify loops.\n",
    "\n",
    "Often, we will notice that our code requires the execution of similar repeated steps.\n",
    "\n",
    "The iteration, or loop construct allows us to automate repeated steps. More specifically, iteration is the act of repeating a process to achieve a specific end goal. When iteration is used, the sequence/set of instructions within the loop will keep repeating until a certain condition/requirement has been reached, or is no longer satisfied. Each repetition is also known as an iteration. The results of one iteration are used as the starting point for the next iteration.\n",
    "\n",
    "Iteration usually involves the use of loops. Most commonly used loops include:\n",
    "\n",
    "1. **For** loops : Loops with an explicit counter for every iteration. This allows the body of the `for` loop code to know about the sequencing (i.e. index number) of the iteration. \n",
    "2. **While-Do** loops : Loops which continually execute a statement while a particular expression (of a condition/set of conditions) is true. It is executed zero or more times. \n",
    "3. **Do-While** (or Repeat-Until) loops : Similar to while-do loops, except the expression is evaluated at the end. Hence, the block of code is executed at once, then only repeats when the specified condition or set of conditions is met. (Not in Python)\n",
    "\n",
    "In Python, the `for` and `while` loops follow the structure below:\n",
    "\n",
    ">```python\n",
    ">for index in <iterable>:\n",
    ">    <action_here>\n",
    ">\n",
    ">while <condition>:\n",
    ">    <action_here>\n",
    ">```"
   ]
  },
  {
   "cell_type": "markdown",
   "metadata": {},
   "source": [
    "An example of an `iterable` object in Python is `range`. The syntax is `range(start,end,step)` and it will give an iterable that starts from `start` with the highest being `end - 1` (*note this*). `step` is an optional argument that specify how much the increment from `start` is. By default, `step = 1`."
   ]
  },
  {
   "cell_type": "markdown",
   "metadata": {},
   "source": [
    "In Python, we can also use `break` and `continue` statements inside the loops to terminate a loop iteration halfway.\n",
    "- the `break` statement stops the loop iteration **completely**, while\n",
    "- the `continue` statement terminates the current loop iteration but goes back to check the condition if the rest of the iteration could be carried out."
   ]
  },
  {
   "cell_type": "code",
   "execution_count": null,
   "metadata": {},
   "outputs": [],
   "source": [
    "n = 5\n",
    "\n",
    "while n >= 1:\n",
    "    print(n)\n",
    "    if n == 3:\n",
    "        n -= 2\n",
    "        continue\n",
    "    n -= 1\n",
    "\n",
    "print('-----')\n",
    "print(n)"
   ]
  },
  {
   "cell_type": "markdown",
   "metadata": {},
   "source": [
    "#### Exercise 2.4\n",
    "Show that for any integer $n$, $n^5$ and $n$ always have the same last digit."
   ]
  },
  {
   "attachments": {},
   "cell_type": "markdown",
   "metadata": {},
   "source": [
    "##### Answer"
   ]
  },
  {
   "cell_type": "code",
   "execution_count": null,
   "metadata": {},
   "outputs": [],
   "source": [
    "#YOUR ANSWER HERE"
   ]
  },
  {
   "attachments": {},
   "cell_type": "markdown",
   "metadata": {},
   "source": [
    "#### Exercise 2.5\n",
    "\n",
    "Consider the following code.\n",
    "\n",
    ">```python\n",
    ">x = input(\"Enter a positive integer value for x: \") \n",
    ">\n",
    ">if x > 10 and x % 6 == 3:\n",
    ">   print(\"a\", end = \"\")\n",
    ">elif x > 10 and x < 20:\n",
    ">   print(\"b\", end = \"\")\n",
    ">else:\n",
    ">   print(\"c\", end = \"\")\n",
    ">print(\"\")\n",
    ">```\n",
    "\n",
    "Given the following outputs, determine the corresponding value(s) for `x` that would have generated that output. If no values of a can produce the listed output, write none.\n",
    "\n",
    "1. `ab`\n",
    "2. `a`\n",
    "3. `b`\n",
    "4. `c`"
   ]
  },
  {
   "cell_type": "raw",
   "metadata": {},
   "source": [
    "1. none\n",
    "2. 15, 21, 27, 33\n",
    "3. 11, 12, 13, 14, 16, 17, 18, 19\n",
    "4. 1, 2, 3, 4, 5, 6, 7, 8, 9, 10"
   ]
  },
  {
   "attachments": {},
   "cell_type": "markdown",
   "metadata": {},
   "source": [
    "##### Answer"
   ]
  },
  {
   "cell_type": "markdown",
   "metadata": {},
   "source": [
    "#### Example 2.6\n",
    "\n",
    "\n",
    "Write a program that helps the user to convert a given integer from 0 to 100 inclusive to a grade repeatedly until a noninteger is entered.\n",
    " \n",
    "The problem: \n",
    "-\tRequest a quantity from the user. \n",
    "-\tif the input quantity is greater or equal to 70, print `A`,\n",
    "-\tif the input quantity is between 60 and 69 inclusive, print `B`,\n",
    "-\tif the input quantity is between 55 and 59 inclusive, print `C`,\n",
    "-\tif the input quantity is between 50 and 54 inclusive, print `D`,\n",
    "-\tif the input quantity is between 45 and 49 inclusive, print `E`,\n",
    "-\tif the input quantity is between 40 and 44 inclusive, print `S`,\n",
    "-\totherwise, print `U`.\n",
    "\n",
    "Example interaction:\n",
    ">Enter mark: 75 <br>\n",
    ">A<br>\n",
    ">Enter mark again: 75 <br>\n",
    ">B<br>\n",
    ">Enter mark again: * <br>\n"
   ]
  },
  {
   "cell_type": "markdown",
   "metadata": {},
   "source": [
    "##### Answer"
   ]
  },
  {
   "cell_type": "code",
   "execution_count": 1,
   "metadata": {},
   "outputs": [
    {
     "name": "stdout",
     "output_type": "stream",
     "text": [
      "B\n"
     ]
    }
   ],
   "source": [
    "while True:\n",
    "    mark = input(\"Enter mark: \")\n",
    "    try:\n",
    "        mark = int(mark)\n",
    "    except:\n",
    "        break\n",
    "\n",
    "    ranges = [100, 69, 59, 54, 49, 44, 39, -1]\n",
    "    grades = [\"Invalid\", \"A\", \"B\", \"C\", \"D\", \"E\", \"S\", \"U\"]\n",
    "    for i in range(len(ranges)):\n",
    "        if mark > ranges[i]:\n",
    "            print(grades[i])\n",
    "            break\n",
    "    else:\n",
    "        print(\"Invalid\")"
   ]
  },
  {
   "cell_type": "markdown",
   "metadata": {},
   "source": [
    "#### Example 2.7 \n",
    "\n",
    "Write a program that helps the user to print each character in a given string.\n",
    "\n",
    "Example interaction:\n",
    ">Please enter a string: abcdef <br>\n",
    ">a<br>\n",
    ">b<br>\n",
    ">c<br>\n",
    ">d<br>\n",
    ">e<br>\n",
    ">f<br>"
   ]
  },
  {
   "cell_type": "markdown",
   "metadata": {},
   "source": [
    "##### Answer"
   ]
  },
  {
   "cell_type": "code",
   "execution_count": 2,
   "metadata": {},
   "outputs": [
    {
     "name": "stdout",
     "output_type": "stream",
     "text": [
      "a\n",
      "b\n",
      "c\n",
      "d\n",
      "e\n",
      "f\n"
     ]
    }
   ],
   "source": [
    "x = input(\"Please enter a string: \")\n",
    "for i in x:\n",
    "    print(i)"
   ]
  },
  {
   "cell_type": "code",
   "execution_count": 5,
   "metadata": {},
   "outputs": [
    {
     "name": "stdout",
     "output_type": "stream",
     "text": [
      "a\n",
      "b\n",
      "c\n",
      "d\n",
      "e\n",
      "f\n"
     ]
    }
   ],
   "source": [
    "x = input(\"Please enter a string: \")\n",
    "count = 0\n",
    "while count < len(x):\n",
    "    print(x[count])\n",
    "    count += 1"
   ]
  },
  {
   "cell_type": "markdown",
   "metadata": {},
   "source": [
    "#### Example 2.8 \n",
    "Write a program that helps the user to extracting digits from a given integer input and print them out in the reverse order.\n",
    "\n",
    "Example interaction:\n",
    ">Enter a number: 123 <br>\n",
    ">3<br>\n",
    ">2<br>\n",
    ">1<br>"
   ]
  },
  {
   "cell_type": "markdown",
   "metadata": {},
   "source": [
    "##### Answer"
   ]
  },
  {
   "cell_type": "code",
   "execution_count": 5,
   "metadata": {},
   "outputs": [
    {
     "name": "stdout",
     "output_type": "stream",
     "text": [
      "3\n",
      "2\n",
      "1\n"
     ]
    }
   ],
   "source": [
    "x = input(\"Please enter a string: \")\n",
    "for i in x[::-1]:\n",
    "    print(i)"
   ]
  },
  {
   "cell_type": "code",
   "execution_count": 6,
   "metadata": {},
   "outputs": [
    {
     "name": "stdout",
     "output_type": "stream",
     "text": [
      "3\n",
      "2\n",
      "1\n"
     ]
    }
   ],
   "source": [
    "x = int(input(\"Enter a number: \"))\n",
    "while x != 0:\n",
    "    print(x % 10)\n",
    "    x = x // 10"
   ]
  },
  {
   "cell_type": "markdown",
   "metadata": {},
   "source": [
    "#### Example 2.9 \n",
    "Write a program that helps the user to prints out all the positive factors of a positive integer $n$.\n",
    "\n",
    "Example interaction:\n",
    ">Please enter a positive integer: 225 <br>\n",
    ">1<br>\n",
    ">3<br>\n",
    ">5<br>\n",
    ">9<br>\n",
    ">15<br>\n",
    ">25<br>\n",
    ">45<br>\n",
    ">75<br>\n",
    ">225<br>"
   ]
  },
  {
   "cell_type": "markdown",
   "metadata": {},
   "source": [
    "##### Answer"
   ]
  },
  {
   "cell_type": "code",
   "execution_count": 12,
   "metadata": {},
   "outputs": [
    {
     "name": "stdout",
     "output_type": "stream",
     "text": [
      "1\n",
      "3\n",
      "5\n",
      "9\n",
      "15\n",
      "25\n",
      "45\n",
      "75\n",
      "225\n"
     ]
    }
   ],
   "source": [
    "import math\n",
    "x = int(input(\"Please enter a positive integer: \"))\n",
    "i = 1\n",
    "factors = []\n",
    "while i <= math.sqrt(x):\n",
    "    if x % i == 0:\n",
    "        factors.append(i)\n",
    "        factors.append(int(x/i))\n",
    "    i += 1\n",
    "\n",
    "factors = list(set(factors))\n",
    "factors.sort()\n",
    "\n",
    "for j in factors:\n",
    "    print(j)"
   ]
  },
  {
   "cell_type": "markdown",
   "metadata": {},
   "source": [
    "#### Exercise 2.10\n",
    "\n",
    "What is the output for each of the following pieces of code?\n",
    "\n",
    "Note: if the code does not terminate, write infinite loop.\n",
    "\n",
    "1. Code 1\n",
    "\n",
    "    >```python\n",
    "    >a = 5  \t\n",
    "    >while a < 8:  \t \n",
    "    >   print(\"X\", end = \"\") \n",
    "    >print(\"\")\n",
    "    >```\n",
    "\n",
    "2. Code 2\n",
    "\n",
    "    >```python\n",
    "    >a = -1  \t\n",
    "    >while a < 3:  \t \t\n",
    "    >   print(\"X\" , end = \"\") \n",
    "    >a = a + 1 \n",
    "    >print(\"\")\n",
    "    >```\n",
    "\n",
    "3. Code 3\n",
    "\n",
    "    >```python\n",
    "    >a = 1\n",
    "    >while a % 7 != 0:  \t \t\n",
    "    >   if a % 2 == 0: \n",
    "    >       print(\"O\" , end = \"\")  \t \t\n",
    "    >   if a == 2:  \t \t \t\n",
    "    >       print(\"X\" , end = \"\")  \t \t\n",
    "    >   a = a + 1 \n",
    "    >print(\"\")\n",
    "    >```"
   ]
  },
  {
   "cell_type": "markdown",
   "metadata": {},
   "source": [
    "##### Answer"
   ]
  },
  {
   "cell_type": "raw",
   "metadata": {},
   "source": [
    "1. infinite loop\n",
    "2. infinite loop\n",
    "3. OXOO"
   ]
  },
  {
   "cell_type": "markdown",
   "metadata": {},
   "source": [
    "#### Exercise 2.11\n",
    "\n",
    "What is the output for each of the following pieces of code?\n",
    "\n",
    "1. Code 1\n",
    "\n",
    "    >```python\n",
    "    >num = 10  \t\n",
    "    >while num > 3:\n",
    "    >   print(num) \n",
    "    >   num = num – 1\n",
    "    >```\n",
    "\n",
    "2. Code 2\n",
    "\n",
    "    >```python\n",
    "    >divisor = 2  \t\n",
    "    >for i in range(0, 10, 2):  \t \t\n",
    "    >   print(i // divisor)\n",
    "    >```\n",
    "\n",
    "3. Code 3\n",
    "\n",
    "    >```python\n",
    "    >num = 10  \t\n",
    "    >while True:  \t\t\n",
    "    >   if num < 7: \n",
    "    >       break  \t \t\t\n",
    "    >   print(num) \n",
    "    >   num -= 1\n",
    "    >```\n",
    "\n",
    "4. Code 4\n",
    "\n",
    "    >```python\n",
    "    >count = 0  \t\n",
    "    >for letter in \"Snow!\": \n",
    "    >   print(\"Letter #\" + str(count), \" is \", letter)\n",
    "    >   count += 1\n",
    "    >```"
   ]
  },
  {
   "cell_type": "markdown",
   "metadata": {},
   "source": [
    "##### Answer"
   ]
  },
  {
   "cell_type": "raw",
   "metadata": {},
   "source": [
    "1. 10, 9, 8, 7, 6, 5, 4\n",
    "2. 0, 1, 2, 3, 4\n",
    "3. 10, 9, 8, 7\n",
    "4. Letter #0 is S, Letter #1 is n, Letter #2 is o, Letter #3 is w, Letter #4 is !"
   ]
  },
  {
   "cell_type": "markdown",
   "metadata": {},
   "source": [
    "#### Exercise 2.12\n",
    "\n",
    "What is the output for each of the following pieces of code?\n",
    "\n",
    "1. Code 1\n",
    "\n",
    "    >```python\n",
    "    >keep_going = True \n",
    "    >a = 0  \t\n",
    "    >b = 0  \t\n",
    "    >while keep_going:  \t \t\n",
    "    >   print(\"O\", end = \"\")  \t \t\n",
    "    >   a = a + 5  \t \t\n",
    "    >   b = b + 7  \t \t\n",
    "    >   if a + b >= 24: \n",
    "    >       |keep_going = False  \t\n",
    "    >print(\"\")\n",
    "    >```\n",
    "\n",
    "2. Code 2\n",
    "\n",
    "    >```python\n",
    "    >keep_going = True \n",
    "    >a = 0  \t\n",
    "    >b = 0  \t\n",
    "    >while keep_going: \n",
    "    >   print(\"O\" , end = \"\")  \t \t\n",
    "    >   if a + b >= 24: \n",
    "    >       keep_going = False  \t \t\n",
    "    >   a = a + 5  \t \t\n",
    "    >   b = b + 7 \n",
    "    >print(\"\")\n",
    "    >```\n",
    "\n",
    "3. Code 3\n",
    "\n",
    "    >```python\n",
    "    >keep_going = True  \t\n",
    "    >a = 0  \t\n",
    "    >b = 0  \t\n",
    "    >while keep_going:  \t \t\n",
    "    >   print(\"O\" , end = \"\")  \t \t\n",
    "    >   a = a + 5  \t \t\n",
    "    >   b = b + 7 \n",
    "    >   if a + b > 24:  # note that \">\" is used here … vs \">=\" in (i)\n",
    "    >       keep_going = False  \t\n",
    "    >print(\"\")\n",
    "    >```\n",
    "\n",
    "4. Code 4\n",
    "\n",
    "    >```python\n",
    "    >keep_going = True \n",
    "    >a = 0  \t\n",
    "    >b = 0  \t\n",
    "    >while keep_going: \n",
    "    >   print(\"O\" , end = \"\")  \t \t\n",
    "    >   if a + b > 24:  \n",
    "    >       keep_going = False  # note that \">\" is used here … vs \">=\" in (ii)  \t \t\n",
    "    >   a = a + 5  \t \t\n",
    "    >   b = b + 7 \n",
    "    >print(\"\")\n",
    "    >```"
   ]
  },
  {
   "cell_type": "markdown",
   "metadata": {},
   "source": [
    "##### Answer"
   ]
  },
  {
   "cell_type": "raw",
   "metadata": {},
   "source": [
    "1. OO\n",
    "2. OOO\n",
    "3. OOO\n",
    "4. OOOO"
   ]
  },
  {
   "cell_type": "markdown",
   "metadata": {},
   "source": [
    "#### Exercise 2.13\n",
    "\n",
    "What is the output for each of the following pieces of code? Note: if the code does not terminate, write infinite loop.\n",
    "\n",
    "1. Code 1\n",
    "\n",
    "    >```python\n",
    "    >a = 0  \t\n",
    "    >while a < 3:  \t \t\n",
    "    >   while True:  \t \t \t\n",
    "    >       print(\"X\", end = \"\") \n",
    "    >       break \n",
    "    >   print(\"O\", end = \"\")  \t \t\n",
    "    >   a = a + 1 \n",
    "    >print(\"\")\n",
    "    >```\n",
    "\n",
    "2. Code 2\n",
    "\n",
    "    >```python\n",
    "    >a = 1 \n",
    "    >while a < 3: \n",
    "    >   while a < 3:  \t \t \t\n",
    "    >       print(\"O\", end  = \"\") \n",
    "    >   a = a + 1 \n",
    "    >print(\"\")\n",
    "    >```\n",
    "\n",
    "3. Code 3\n",
    "\n",
    "    >```python\n",
    "    >a = 1 \n",
    "    >while a < 3:  \t \t\n",
    "    >   if a % 2 == 0: \n",
    "    >       b = 1  \t \t \t\n",
    "    >       while b < 3:  \t \t \t \t\n",
    "    >           print(\"X\", end = \"\")  \t \t \t \t\n",
    "    >           b = b + 1 \n",
    "    >           print(\"O\", end = \"\") \n",
    "    >   a = a + 1 \n",
    "    >print(\"\")\n",
    "    >```"
   ]
  },
  {
   "cell_type": "markdown",
   "metadata": {},
   "source": [
    "##### Answer"
   ]
  },
  {
   "cell_type": "raw",
   "metadata": {},
   "source": [
    "1. XOXOXOXO\n",
    "2. infinite loop\n",
    "3. XOXOXO"
   ]
  },
  {
   "attachments": {},
   "cell_type": "markdown",
   "metadata": {},
   "source": [
    "#### Exercise 2.14\n",
    "\n",
    "The following code loops infinitely when run, fix the code so that its output is `OOOXOXOO`.\n",
    "\n",
    ">```python\n",
    ">a = 1 \n",
    ">while a < 3: \n",
    ">  b = 1  \t\n",
    ">  while b < 3:  \t \t\n",
    ">      if a == 2:  \t \t \t\n",
    ">          print(\"X\", end = \"\")  \t \t\n",
    ">      print \"O\",  \t \t\n",
    ">      b = b + 1 \n",
    ">  print(\"O\", end = \"\") \n",
    ">print(\"\")\n",
    ">```"
   ]
  },
  {
   "cell_type": "markdown",
   "metadata": {},
   "source": [
    "##### Answer"
   ]
  },
  {
   "cell_type": "code",
   "execution_count": 4,
   "metadata": {},
   "outputs": [
    {
     "name": "stdout",
     "output_type": "stream",
     "text": [
      "XO\n"
     ]
    }
   ],
   "source": [
    "# Unsolvable cause code brokey"
   ]
  },
  {
   "cell_type": "markdown",
   "metadata": {},
   "source": [
    "#### Exercise 2.15\n",
    "\n",
    "Carl Friedrich Gauss (1777-1855) was one of those remarkable infant prodigies whose natural aptitude for mathematics soon becomes apparent. As a child of three, according to a well-authenticated story, he corrected an error in his father's payroll calculations. His arithmetical powers so overwhelmed his schoolmasters that, by the time Gauss was 10 years old, they admitted that there was nothing more they could teach the boy. It is said that in his first arithmetic class Gauss astonished his teacher by instantly solving what was intended to be a \"busy work\" problem: Find the sum of all the numbers from 1 to 100. \n",
    "\n",
    "How would you find this sum yourself? No Googling for answer kthx."
   ]
  },
  {
   "cell_type": "markdown",
   "metadata": {},
   "source": [
    "##### Answer"
   ]
  },
  {
   "cell_type": "code",
   "execution_count": 5,
   "metadata": {},
   "outputs": [
    {
     "name": "stdout",
     "output_type": "stream",
     "text": [
      "5050\n",
      "5050.0\n"
     ]
    }
   ],
   "source": [
    "# Method 1\n",
    "sum = 0\n",
    "upperLimit = 100\n",
    "for i in range(upperLimit):\n",
    "    sum += i + 1\n",
    "print(sum)\n",
    "\n",
    "# Method 2 (upperLimit must be even)\n",
    "upperLimit = 100\n",
    "sum = (upperLimit + 1) * (upperLimit / 2)\n",
    "print(int(sum))"
   ]
  },
  {
   "cell_type": "markdown",
   "metadata": {},
   "source": [
    "## Additional Practice Questions\n",
    "**[Introduction to Electrical Engineering and Computer Science I: Types, Values, Expressions; Variables and Binding](https://ocw.mit.edu/courses/electrical-engineering-and-computer-science/6-01sc-introduction-to-electrical-engineering-and-computer-science-i-spring-2011/python-tutorial/part-i/)**<br>\n",
    "**[Introduction to Electrical Engineering and Computer Science I: Using if, else, and while](https://ocw.mit.edu/courses/electrical-engineering-and-computer-science/6-01sc-introduction-to-electrical-engineering-and-computer-science-i-spring-2011/python-tutorial/part-3/)**"
   ]
  }
 ],
 "metadata": {
  "file_extension": ".py",
  "kernelspec": {
   "display_name": "Python 3 (ipykernel)",
   "language": "python",
   "name": "python3"
  },
  "language_info": {
   "codemirror_mode": {
    "name": "ipython",
    "version": 3
   },
   "file_extension": ".py",
   "mimetype": "text/x-python",
   "name": "python",
   "nbconvert_exporter": "python",
   "pygments_lexer": "ipython3",
   "version": "3.11.1"
  },
  "mimetype": "text/x-python",
  "name": "python",
  "npconvert_exporter": "python",
  "pygments_lexer": "ipython3",
  "version": 3,
  "vscode": {
   "interpreter": {
    "hash": "033afebc77ce116f8b4e5adc75a85edec4479cc7d7b8a0d9079b4c316c15d572"
   }
  }
 },
 "nbformat": 4,
 "nbformat_minor": 2
}
