{
 "cells": [
  {
   "attachments": {},
   "cell_type": "markdown",
   "metadata": {},
   "source": [
    "# Exercise 7\n",
    "\n",
    "Related Notes:\n",
    "- Chapter_03_Data_Structures\n",
    "- Chapter_04_Functions\n",
    "\n",
    "For questions 7.1, 7.2 and 7.6, you are to implement both :\n",
    "- an **iterative version**, and \n",
    "- a **recursive version** \n",
    "of the function specified.\n",
    "\n",
    "Please decide on your own function name.\n",
    "\n",
    "[![Open In Colab](https://colab.research.google.com/assets/colab-badge.svg)](https://colab.research.google.com/github/njc-cz2-2021/Materials/blob/main/Exercises/Exercise-07-Dictionary_and_Set.ipynb) "
   ]
  },
  {
   "cell_type": "markdown",
   "metadata": {},
   "source": [
    "## Exercise 7.1\n",
    "\n",
    "Write a function that takes in a positive integer, $n$, and returns `True` if $n$ is a prime number and `False` if it's not.\n",
    "\n",
    "**Example Interaction**\n",
    ">```\n",
    ">your_function(7)\n",
    ">True\n",
    ">your_function(9)\n",
    ">False\n",
    ">```"
   ]
  },
  {
   "cell_type": "code",
   "execution_count": 15,
   "metadata": {},
   "outputs": [
    {
     "name": "stdout",
     "output_type": "stream",
     "text": [
      "True\n"
     ]
    }
   ],
   "source": [
    "def prime_iteration(a):\n",
    "    if a == 1:\n",
    "        return False\n",
    "    for i in range(2, a - 1):\n",
    "        if (a / i).is_integer():\n",
    "            return False\n",
    "    return True\n",
    "\n",
    "def prime_recursive(a, divisor = 2):\n",
    "    \n",
    "    if a == 1:\n",
    "        return False\n",
    "    elif a == divisor or a == 2:\n",
    "        return True\n",
    "    elif (a / divisor).is_integer():\n",
    "        return False\n",
    "    else:\n",
    "        return prime_recursive(a, divisor + 1)\n",
    "    \n",
    "print(prime_recursive(3))"
   ]
  },
  {
   "cell_type": "markdown",
   "metadata": {},
   "source": [
    "## Exercise 7.2\n",
    "\n",
    "Write a function that takes in a positive integer $n$, and prints outs the digits in English word form. For example, when given as input: `3214`, the function should print: `three two one four` in one line.\n",
    "\n",
    "**Example Interaction**\n",
    ">```\n",
    ">your_function(3214)\n",
    ">three two one four\n",
    ">```"
   ]
  },
  {
   "cell_type": "code",
   "execution_count": 30,
   "metadata": {},
   "outputs": [
    {
     "name": "stdout",
     "output_type": "stream",
     "text": [
      "one two three four five six seven eight nine \n",
      "one two three four five six seven eight nine\n"
     ]
    }
   ],
   "source": [
    "def word_maker_iteration(n):\n",
    "    digits = [\"zero\", \"one\", \"two\", \"three\", \"four\", \"five\", \"six\", \"seven\", \"eight\", \"nine\"]\n",
    "    output = \"\"\n",
    "    for i in str(n):\n",
    "        output += digits[int(i)] + \" \"\n",
    "    return output\n",
    "\n",
    "print(word_maker_iteration(123456789))\n",
    "\n",
    "def word_maker_recursive(n):\n",
    "    digits = [\"zero\", \"one\", \"two\", \"three\", \"four\", \"five\", \"six\", \"seven\", \"eight\", \"nine\"]\n",
    "    n = str(n)\n",
    "    if len(n) == 1:\n",
    "        return digits[int(n)]\n",
    "    # return digits[int(n[0])] + \" \" + word_maker_recursive(n[1:])\n",
    "    return word_maker_recursive(n[:-1]) + \" \" + digits[int(n[-1])]\n",
    "\n",
    "print(word_maker_recursive(123456789))"
   ]
  },
  {
   "cell_type": "markdown",
   "metadata": {},
   "source": [
    "## Exercise 7.3\n",
    "\n",
    "There are 5 usernames with their respective password. \n",
    "* user1: password1\n",
    "* user2: password2\n",
    "* user3: password3\n",
    "\n",
    "Implement a script such that:\n",
    "\n",
    "1. Use a suitable data structure to store usernames and passwords,\n",
    "2. User enters username and password\n",
    "3. Check user username and password\n",
    "    * If username does not exists, print \"User not found\"\n",
    "    * if username exists, but password doesn't match, print \"Wrong password\"\n",
    "    * If both username and password match, print \"You are in\"\n",
    "\n",
    "\n",
    "**Example Interaction**\n",
    ">```\n",
    ">Enter username: user10\n",
    ">Enter password: pass10\n",
    ">User not found\n",
    ">\n",
    ">Enter username: user1\n",
    ">Enter password: pass1\n",
    ">Wrong password\n",
    ">\n",
    ">Enter username: user1\n",
    ">Enter password: password1\n",
    ">You are in\n",
    ">```"
   ]
  },
  {
   "cell_type": "code",
   "execution_count": 43,
   "metadata": {},
   "outputs": [
    {
     "name": "stdout",
     "output_type": "stream",
     "text": [
      "User not found\n"
     ]
    }
   ],
   "source": [
    "passwords = {\n",
    "    \"user1\": \"password1\",\n",
    "    \"user2\": \"password2\",\n",
    "    \"user3\": \"password3\",\n",
    "    \"user4\": \"password4\",\n",
    "    \"user5\": \"password5\"\n",
    "}\n",
    "\n",
    "un_in = input(\"Enter username: \")\n",
    "pw_in = input(\"Enter password: \")\n",
    "\n",
    "for u, p in passwords.items():\n",
    "    if un_in == u:\n",
    "        if pw_in == p:\n",
    "            print(\"You are in\")\n",
    "            break\n",
    "        print(\"Wrong password\")\n",
    "        break\n",
    "else:\n",
    "    print(\"User not found\")"
   ]
  },
  {
   "cell_type": "markdown",
   "metadata": {},
   "source": [
    "## Exercise 7.4\n",
    "\n",
    "The winning number of Toto this week is `7, 20, 29, 41, 47, 49`. Implement a script to help user check result. \n",
    "* Define a function `match_count(win_nums, your_nums)` which returns the number of matched numbers. It takes in 2 lists as parameters, `win_nums` and `your_num`. The `winning_nums` contains winnning numbers, and `your_nums` contains number enters by user.\n",
    "* Ask user to input a list of numbers separated by space ` `.\n",
    "\n",
    "You probably need to use the `str.split()` method for this question. Use `help(str.split)` or search online. \n",
    "\n",
    "**Example Interaction**\n",
    ">```\n",
    ">Enter your Toto numbers separated by space: \n",
    ">1 7 20 29 41 47 49 50\n",
    ">Count of matched numbers:  6\n",
    ">```"
   ]
  },
  {
   "cell_type": "code",
   "execution_count": 45,
   "metadata": {},
   "outputs": [
    {
     "name": "stdout",
     "output_type": "stream",
     "text": [
      "Counts of matched numbers: 6\n"
     ]
    }
   ],
   "source": [
    "def match_count(win_nums, your_nums):\n",
    "    win_nums = win_nums.split()\n",
    "    your_nums = your_nums.split()\n",
    "    matches = 0\n",
    "    for i in win_nums:\n",
    "        for o in your_nums:\n",
    "            if i == o:\n",
    "                matches += 1\n",
    "    return matches    \n",
    "\n",
    "your_nums = input(\"Enter your Toto numbers separated by space: \")\n",
    "print(f\"Count of matched numbers: {match_count('7 20 29 41 47 49', your_nums)}\")\n"
   ]
  },
  {
   "cell_type": "code",
   "execution_count": 31,
   "metadata": {},
   "outputs": [
    {
     "name": "stdout",
     "output_type": "stream",
     "text": [
      "Count of matched numbers: 0\n"
     ]
    }
   ],
   "source": [
    "def match_count(win_nums, your_nums):\n",
    "    win_nums = win_nums.split()\n",
    "    your_nums = your_nums.split()\n",
    "    winning_dict = {}\n",
    "    for i in win_nums:\n",
    "        winning_dict[i]= your_nums.count(i)\n",
    "    return sum(winning_dict.values()) \n",
    "\n",
    "your_nums = input(\"Enter your Toto numbers separated by space: \")\n",
    "print(f\"Count of matched numbers: {match_count('7 20 29 41 47 49', your_nums)}\")\n"
   ]
  },
  {
   "cell_type": "markdown",
   "metadata": {},
   "source": [
    "## Exercise 7.5 Greatest Common Divisor\n",
    "\n",
    "Let $a$ be an integer. A **divisor** of $a$, also called a **factor** of $a$ is an integer $r$ such that there exists an integer $m$ such that $mr=a$. For example, if $a=20$, then $2$ and $5$ are both divisors of $a$ as $2\\times 10=20$ and $5 \\times 4=20$.\n",
    "\n",
    "Write a function that takes in a positive integer $n$, and return a list of all positive integers that is the divisor of $n$.\n",
    "\n",
    "**Example Interaction**\n",
    ">```\n",
    ">your_function(20)\n",
    ">[1,2,4,5,10,20]\n",
    ">```\n",
    "\n",
    "Let $a$ and $b$ be positive integers. A **common divisor** of $a$ and $b$ is a positive integer $r$ such that there exists positive integers $m_1,m_2$ such that $a=m_1*r$ and $b=m_2*r$. The highest of such integer is called the **greatest of common divisor of $a$ and $b$**, denoted as $\\gcd(a,b)$.\n",
    "\n",
    "Using the function you have defined previously, Write a function `gcd` that takes in 2 positive integer $a$ and $b$, and return the greatest common divisor of $a$ and $b$. \n",
    "\n",
    "**Example Interaction**\n",
    ">```\n",
    ">gcd(4,10)\n",
    ">2\n",
    ">```"
   ]
  },
  {
   "cell_type": "code",
   "execution_count": 38,
   "metadata": {},
   "outputs": [
    {
     "name": "stdout",
     "output_type": "stream",
     "text": [
      "[1, 4]\n"
     ]
    }
   ],
   "source": [
    "def factorFinder(a):return [i for i in range(1,a+1) if a%i==0]\n",
    "\n",
    "def factorFinderSqrtN(a):return sorted(list(set([item for sublist in [[i,int(a/i)] for i in range(1,int(a**0.5)) if a%i==0] for item in sublist])))\n",
    "\n",
    "print(factorFinderSqrtN(4))\n",
    "\n",
    "def gcd(a, b):\n",
    "    greatest = 0\n",
    "    a = factorFinder(a)\n",
    "    b = factorFinder(b)\n",
    "    for i in a:\n",
    "        for j in b:\n",
    "            if i == j:\n",
    "                greatest = i\n",
    "                break\n",
    "    return greatest\n",
    "\n",
    "def gcdSets(a, b): return max(set(factorFinder(a)).intersection(set(factorFinder(b))))"
   ]
  },
  {
   "cell_type": "markdown",
   "metadata": {},
   "source": [
    "## Exercise 7.6 Euclidean Algorithm\n",
    "\n",
    "A more efficient method to compute the greatest common divisor of two integers $a$ and $b$ is by using the Euclidean algorithm. It is based on the principle that the greatest common divisor of two numbers does not change if the larger number is replaced by its difference with the smaller number. For example,\n",
    "\n",
    "$$\n",
    "\\begin{align*}\n",
    "\\gcd(252,105)&=21\\\\ \n",
    "&=\\gcd(252-2(105)=42,105)\\\\\n",
    "&=\\gcd(42,105-2(42)=21)\\\\\n",
    "&=\\gcd(42,21)\n",
    "\\end{align*}\n",
    "$$\n",
    "\n",
    "In particular, assume $a>b$, then by Division Algorithm, there exists $q\\in \\mathbb{Z}$ such that $a=qb+r$, where $0\\leq r<b$. Then, \n",
    "$$\n",
    "\\begin{align*}\n",
    "\\gcd(a,b)&=\\gcd(a-qb,b)\\\\\n",
    "&=\\gcd(r,b).\n",
    "\\end{align*}\n",
    "$$\n",
    "\n",
    "Write a function that takes in 2 positive integer $a$ and $b$, and return the greatest common divisor of $a$ and $b$.\n",
    "\n",
    "**Example Interaction**\n",
    ">```\n",
    ">your_function(4,10)\n",
    ">2\n",
    ">```"
   ]
  },
  {
   "cell_type": "code",
   "execution_count": 8,
   "metadata": {},
   "outputs": [
    {
     "name": "stdout",
     "output_type": "stream",
     "text": [
      "2\n"
     ]
    }
   ],
   "source": [
    "def euclidean_algo_iterative(a, b):\n",
    "    # a, b = (a, b) if a > b else (b, a)\n",
    "    while a % b != 0:\n",
    "        b, a = (a % b), b\n",
    "    return b\n",
    "\n",
    "print(euclidean_algo_iterative(4, 10))\n",
    "    \n",
    "def euclidean_algo_recursive(a, b):\n",
    "    a, b = (a, b) if a > b else (b, a)\n",
    "    if b == 0:\n",
    "        return a\n",
    "    return euclidean_algo_recursive(b, a % b)"
   ]
  },
  {
   "cell_type": "markdown",
   "metadata": {},
   "source": [
    "## Exercise 7.7\n",
    "Write a function that takes in a list of positive integers, $N$, and returns the greatest common divisor (i.e., the highest common factor) of all integers in $N$."
   ]
  },
  {
   "cell_type": "code",
   "execution_count": 27,
   "metadata": {},
   "outputs": [
    {
     "data": {
      "text/plain": [
       "12"
      ]
     },
     "execution_count": 27,
     "metadata": {},
     "output_type": "execute_result"
    }
   ],
   "source": [
    "def gcd_list(N):\n",
    "    gcd = N[0]\n",
    "    for n in N[1:]:\n",
    "        gcd = euclidean_algo_iterative(gcd, n)\n",
    "    return gcd\n",
    "\n",
    "gcd_list([60, 24, 360])"
   ]
  }
 ],
 "metadata": {
  "kernelspec": {
   "display_name": "Python 3",
   "language": "python",
   "name": "python3"
  },
  "language_info": {
   "codemirror_mode": {
    "name": "ipython",
    "version": 3
   },
   "file_extension": ".py",
   "mimetype": "text/x-python",
   "name": "python",
   "nbconvert_exporter": "python",
   "pygments_lexer": "ipython3",
   "version": "3.11.1"
  },
  "orig_nbformat": 2,
  "vscode": {
   "interpreter": {
    "hash": "033afebc77ce116f8b4e5adc75a85edec4479cc7d7b8a0d9079b4c316c15d572"
   }
  }
 },
 "nbformat": 4,
 "nbformat_minor": 2
}
