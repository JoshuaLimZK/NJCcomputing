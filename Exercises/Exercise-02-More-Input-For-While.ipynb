{
 "cells": [
  {
   "attachments": {},
   "cell_type": "markdown",
   "metadata": {},
   "source": [
    "# Exercise 2\n",
    "\n",
    "Related Notes:\n",
    "- Chapter_01_Data_Types\n",
    "- Chapter_02_Programming_Constructs\n",
    "\n",
    "[![Open In Colab](https://colab.research.google.com/assets/colab-badge.svg)](https://colab.research.google.com/github/njc-cz2-2021/Materials/blob/main/Exercises/Exercise-02-More-Input-For-While.ipynb) "
   ]
  },
  {
   "attachments": {},
   "cell_type": "markdown",
   "metadata": {},
   "source": [
    "## Exercise 2.1 Power\n",
    " \n",
    "Write a program that prints out the first $m$ numbers that can be written as a positive integer taken to the power $n$. \n",
    "\n",
    "Example interaction: \n",
    "\n",
    ">Input the number of terms, m: 5 <br>\n",
    ">Input the n-th power: 3 <br>\n",
    ">1<br>\n",
    ">8<br>\n",
    ">27<br>\n",
    ">64<br>\n",
    ">125<br>"
   ]
  },
  {
   "cell_type": "code",
   "execution_count": 2,
   "metadata": {},
   "outputs": [
    {
     "name": "stdout",
     "output_type": "stream",
     "text": [
      "1\n",
      "8\n",
      "27\n",
      "64\n",
      "125\n"
     ]
    }
   ],
   "source": [
    "m = int(input(\"Input the number of terms, m: \"))\n",
    "n = int(input(\"Input the n-th power: \"))\n",
    "for i in range(1, m+1):\n",
    "    print(i ** n)"
   ]
  },
  {
   "cell_type": "markdown",
   "metadata": {},
   "source": [
    "## Exercise 2.2 Guess The Secret Number\n",
    " \n",
    "Write a program that stores a secret integer in a variable. The user has to guess the secret integer, the program should loop until they get it right.\n",
    "\n",
    "The problem: \n",
    "-   Decide on a secret integer between 1 and 100 inclusive yourself.\n",
    "-\tRequest an integer from the user. \n",
    "-\tif the user inputted a value that is too high, print 'Your number is too high. Try again.' and the program loops\n",
    "-   if the user inputted a value that is too low, print 'Your number is too low. Try again.' and the program loops\n",
    "-   if the user inputted a value that is the same as the secret integer, print 'Congratulations. You guessed correctly.' and the program ends.\n",
    "\n",
    "Example interaction: \n",
    "\n",
    ">#Secret number is 31\n",
    ">Input a quantity: 37 <br>\n",
    ">Your number is too high. Try again. <br>\n",
    ">Input a quantity: 25 <br>\n",
    ">Your number is too low. Try again.\n",
    ">Input a quantity: 31 <br>\n",
    ">Congratulations. You guessed correctly."
   ]
  },
  {
   "cell_type": "code",
   "execution_count": 3,
   "metadata": {},
   "outputs": [
    {
     "name": "stdout",
     "output_type": "stream",
     "text": [
      "41\n",
      "Your number is too low, Try again.\n",
      "Congratulations\n"
     ]
    }
   ],
   "source": [
    "import random\n",
    "\n",
    "secret = random.randint(1, 100)\n",
    "\n",
    "valueIn = 0\n",
    "\n",
    "while secret != valueIn:\n",
    "    valueIn = int(input(\"Input a quantity\"))\n",
    "    if secret > valueIn:\n",
    "        print(\"Your number is too low, Try again.\")\n",
    "    elif secret < valueIn:\n",
    "        print(\"Your number is too high, Try again.\")\n",
    "print(\"Congratulations. You guessed correctly.\")"
   ]
  },
  {
   "cell_type": "markdown",
   "metadata": {},
   "source": [
    "## Exercise 2.3\n",
    "\n",
    "In mathematics, a **geometric sequence** is a sequence of real numbers \n",
    "$$u_1,u_2,\\cdots, u_n$$\n",
    "such that the ratio between two consecutive terms is constant, i.e. $\\frac{u_{n+1}}{u_n}=r$ for some constant $r\\in \\mathbb{R}\\backslash \\{0,1\\}$, called the **common ratio** and $n\\geq 1$.\n",
    "\n",
    "For example, the sequence $2,6,18,54,162,\\dots$ is an geometric sequence with first term $2$ and common ratio $3$.\n",
    "\n",
    "Write a program to generate the first $n$ terms of an geometric sequence with a user defined first term $a$ and common ratio $r$.\n",
    "\n",
    "The problem: \n",
    "- Request a numeric input from the user to be used as the first term.  Let us denote this input as `first_term`.\n",
    "- Request a numeric input from the user to be used as the common difference.  Let us denote this input as `common_ratio`.\n",
    "- Request an integer input from the user for the number of terms.  Let us denote this input as `number_of_terms`.\n",
    "- Print out the sequence up to the $n$th term.\n",
    "\n",
    "Example interaction: \n",
    "\n",
    ">Please input the first term in the geometric sequence:<br>\n",
    ">2<br>\n",
    ">Please input the common ratio:<br>\n",
    ">3<br>\n",
    ">Please input the number of terms:<br>\n",
    ">5<br>\n",
    ">The first 5 terms of the geometric sequence are:<br>\n",
    ">2<br>\n",
    ">6<br>\n",
    ">18<br>\n",
    ">54<br>\n",
    ">162<br>"
   ]
  },
  {
   "cell_type": "code",
   "execution_count": 4,
   "metadata": {},
   "outputs": [
    {
     "name": "stdout",
     "output_type": "stream",
     "text": [
      "the first 5 terms of the geometric sequence are: \n",
      "2.0\n",
      "6.0\n",
      "18.0\n",
      "54.0\n",
      "162.0\n"
     ]
    }
   ],
   "source": [
    "first_term = float(input(\"Please input the first term in the geometric sequence: \"))\n",
    "common_ratio = float(input(\"Please input the common ratio: \"))\n",
    "number_of_terms = int(input(\"Please input the number of terms: \"))\n",
    "print(f\"the first {number_of_terms} terms of the geometric sequence are: \")\n",
    "for i in range(number_of_terms):\n",
    "    print(first_term)\n",
    "    first_term *= common_ratio"
   ]
  },
  {
   "cell_type": "markdown",
   "metadata": {},
   "source": [
    "## Exercise 2.4\n",
    "\n",
    "Given a geometric sequence with first term $a$ and common ratio $r$.\n",
    "\n",
    "Write a program that:\n",
    "- Request a numeric input from the user to be used as the first term.  Let us denote this input as `first_term`.\n",
    "- Request a numeric input from the user to be used as the common difference.  Let us denote this input as `common_ratio`.\n",
    "- Request an integer input from the user for the index for the term in the sequence.  Let us denote this input as `n`.\n",
    "- Print out the $n$th term in the sequence.\n",
    "- Print out the sum of the first $n$ terms in the sequence.\n",
    "\n",
    "Example interaction: \n",
    "\n",
    ">Please input the first term in the geometric sequence:<br>\n",
    ">2<br>\n",
    ">Please input the common ratio:<br>\n",
    ">3<br>\n",
    ">Please input the index :<br>\n",
    ">5<br>\n",
    ">The 5th term in the sequence is:<br>\n",
    ">162<br>\n",
    ">The sum of the first 5 terms in the sequence is:<br>\n",
    ">242<br>"
   ]
  },
  {
   "cell_type": "code",
   "execution_count": 5,
   "metadata": {},
   "outputs": [
    {
     "name": "stdout",
     "output_type": "stream",
     "text": [
      "Term 5 in the sequence is:\n",
      "162.0\n",
      "The sum of the first 5 terms in the sequence is:\n",
      "242.0\n"
     ]
    }
   ],
   "source": [
    "first_term = float(input(\"Please input the first term in the geometric sequence: \"))\n",
    "common_ratio = float(input(\"Please input the common ratio: \"))\n",
    "n = int(input(\"Please input the index: \"))\n",
    "total = 0\n",
    "\n",
    "print(f\"Term {n} in the sequence is:\")\n",
    "for i in range(n):\n",
    "    total += first_term\n",
    "    first_term *= common_ratio\n",
    "\n",
    "print(first_term / common_ratio)\n",
    "print(\"The sum of the first 5 terms in the sequence is:\")\n",
    "print(total)"
   ]
  },
  {
   "cell_type": "markdown",
   "metadata": {},
   "source": [
    "## Exercise 2.5\n",
    "\n",
    "Given a geometric sequence with first term $1$ and common ratio $r$. Find the sum of the first 100 terms of the sequence if:\n",
    "- $r=2$ \n",
    "- $r=\\frac{1}{2}$ \n",
    "- $r=-3$ \n",
    "- $r=-\\frac{5}{6}$ \n",
    "- $r=4.1$\n",
    "- $r=0.7$\n",
    "\n",
    "What can you conclude about the relationship between the common ratio of the geometric sequence with the sum of the first $n$ terms of the geometric sequence as $n$ grows larger and larger? i.e., as $n\\rightarrow \\infty$. You might want to try with more values of $r$."
   ]
  },
  {
   "cell_type": "code",
   "execution_count": 6,
   "metadata": {},
   "outputs": [
    {
     "name": "stdout",
     "output_type": "stream",
     "text": [
      "When r = 2, sum of first 100 terms = 1267650600228229401496703205375\n",
      "When r = 0.5, sum of first 100 terms = 2.535301200456459e+30\n",
      "When r = -3, sum of first 100 terms = -1.2884438018300283e+47\n",
      "When r = -0.8333333333333334, sum of first 100 terms = 2.8111500791399787e+47\n",
      "When r = 4.1, sum of first 100 terms = 3.810876242278107e+100\n",
      "When r = 0.7, sum of first 100 terms = 3.937905450354042e+101\n"
     ]
    }
   ],
   "source": [
    "rValues = [2, 0.5, -3, -5/6, 4.1, 0.7]\n",
    "\n",
    "first_term = 1\n",
    "common_ratio = 0\n",
    "n = 100\n",
    "total = 0\n",
    "\n",
    "for i in rValues:\n",
    "    total = 0\n",
    "    for j in range(n):\n",
    "        total += first_term\n",
    "        first_term *= i\n",
    "    print(f\"When r = {i}, sum of first {n} terms = {total}\")"
   ]
  },
  {
   "cell_type": "markdown",
   "metadata": {},
   "source": [
    "## Exercise 2.6 2019/NJC Tutorial/APGP/QB8 H2 Mathematics (Modified)\n",
    "\n",
    "An athlete is considering two plans for a training program.\n",
    "\n",
    "- Plan I: Run 2000 m on day 1, 2400 m on day 2, and on each successive day increase the distance run by 400 m.\n",
    "\n",
    "- Plan II: Run 2000 m on day 1, 2200 m on day 2, and on each successive day multiply the distance run by a constant factor $\\frac{11}{10}$.\n",
    "\n",
    "(a) For Plan I, find the least value of $n$ for which the total distance run on days 1 to $n$, inclusive, exceeds 200 000 m.\n",
    "\n",
    "(b) For Plan II, find the least value of N for which the distance run on day $N$ exceeds 16 000.\n",
    "\n",
    "(c) Assume that athlete $A$ decided to go with Plan I and another athlete $B$ decided to with Plan II, when will athlete $B$'s total distance run first exceeds athlete $A$'s total distance run? "
   ]
  },
  {
   "cell_type": "code",
   "execution_count": null,
   "metadata": {},
   "outputs": [],
   "source": [
    "#YOUR CODE HERE"
   ]
  }
 ],
 "metadata": {
  "kernelspec": {
   "display_name": "Python 3",
   "language": "python",
   "name": "python3"
  },
  "language_info": {
   "codemirror_mode": {
    "name": "ipython",
    "version": 3
   },
   "file_extension": ".py",
   "mimetype": "text/x-python",
   "name": "python",
   "nbconvert_exporter": "python",
   "pygments_lexer": "ipython3",
   "version": "3.11.1"
  },
  "orig_nbformat": 2,
  "vscode": {
   "interpreter": {
    "hash": "033afebc77ce116f8b4e5adc75a85edec4479cc7d7b8a0d9079b4c316c15d572"
   }
  }
 },
 "nbformat": 4,
 "nbformat_minor": 2
}
