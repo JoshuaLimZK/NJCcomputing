{
 "cells": [
  {
   "attachments": {},
   "cell_type": "markdown",
   "metadata": {},
   "source": [
    "# Exercise 17\n",
    "\n",
    "Related Notes:\n",
    "- Chapter_11_Fundamental_Algorithms\n",
    "\n",
    "[![Open In Colab](https://colab.research.google.com/assets/colab-badge.svg)](https://colab.research.google.com/github/njc-cz2-2021/Materials/blob/main/Exercises/Exercise-17-Fundamental-Algorithms.ipynb) "
   ]
  },
  {
   "cell_type": "markdown",
   "metadata": {},
   "source": [
    "## Exercise 17.1\n",
    "\n",
    "Write the function `linearSearch1`, which takes in 2 parameters:\n",
    "\n",
    "1. a list of integers, `L`, \n",
    "2. a target integer, `t`. \n",
    "\n",
    "This function will return the index of any instance of `t` in `L`. If `t` does not exist in `L`, then the function will return `-1`. Your implementation should be based on the linear search algorithm."
   ]
  },
  {
   "cell_type": "code",
   "execution_count": 3,
   "metadata": {},
   "outputs": [],
   "source": [
    "def linearSearch1(L, t):\n",
    "    for i in range(len(L)):\n",
    "        if L[i] == t:\n",
    "            return i\n",
    "    return -1"
   ]
  },
  {
   "cell_type": "markdown",
   "metadata": {},
   "source": [
    "## Exercise 17.2\n",
    "\n",
    "Write the function `binarySearch1`, which takes in 2 parameters:\n",
    "\n",
    "1. a list of integers, `L`, which is sorted in ascending order  and \n",
    "2. a target integer, `t`. \n",
    "\n",
    "This function will return the index of any instance of `t` in `L`. If `t` does not exist in `L`, then the function will return `-1`. Your implementation should be based on the binary search algorithm."
   ]
  },
  {
   "cell_type": "code",
   "execution_count": 20,
   "metadata": {},
   "outputs": [
    {
     "data": {
      "text/plain": [
       "-1"
      ]
     },
     "execution_count": 20,
     "metadata": {},
     "output_type": "execute_result"
    }
   ],
   "source": [
    "def binarySearch1(L, t):\n",
    "    low = 0\n",
    "    upp = len(L) - 1\n",
    "    mid = upp // 2\n",
    "    while True:\n",
    "        if L[mid] == t:\n",
    "            return mid\n",
    "        elif low == upp:\n",
    "            return -1\n",
    "        elif t > L[mid]:\n",
    "            low = mid + 1\n",
    "        else:\n",
    "            upp = mid - 1\n",
    "        mid = low + ((upp - low) // 2)"
   ]
  },
  {
   "cell_type": "markdown",
   "metadata": {},
   "source": [
    "## Exercise 17.3\n",
    "\n",
    "Write the function `binarySearch2`, which takes in 2 parameters: \n",
    "\n",
    "1. a list of integers, `L`, sorted in descending order, and \n",
    "2.  a target integer, `t`. \n",
    "\n",
    "This function will return the index of any instance of `t` in `L`. If `t` does not exist in `L`, then the function will return `-1`. Your implementation should be based on the binary search algorithm.\n"
   ]
  },
  {
   "cell_type": "code",
   "execution_count": 28,
   "metadata": {},
   "outputs": [
    {
     "name": "stdout",
     "output_type": "stream",
     "text": [
      "0\n"
     ]
    }
   ],
   "source": [
    "def binarySearch2(L, t):\n",
    "    L = L[::-1]\n",
    "    if binarySearch1(L, t) == -1:\n",
    "        return -1\n",
    "    return len(L) - binarySearch1(L, t) - 1\n",
    "\n",
    "print(binarySearch2([9, 8, 7, 6, 5, 4, 3, 2, 1], 9))"
   ]
  },
  {
   "cell_type": "markdown",
   "metadata": {},
   "source": [
    "## Exercise 17.4\n",
    "\n",
    "Write the function `linearSearch2`, which takes in 2 parameters: \n",
    "\n",
    "1. a list of integers, `L`, and \n",
    "2. a target integer, `t`. \n",
    "\n",
    "This function will return the index of any instance in `L` that is **just greater** than `t`.\n",
    "\n",
    "We define an element `t'` in `L` is “just greater” than `t` if `t'` is greater than `t`, but less than (or equals) to any other element in `L` that is greater than `t`. If such any element does not exist in `L`, then the function will return `-1`. Your implementation should be based on the linear search algorithm."
   ]
  },
  {
   "cell_type": "code",
   "execution_count": 66,
   "metadata": {},
   "outputs": [
    {
     "name": "stdout",
     "output_type": "stream",
     "text": [
      "3\n"
     ]
    }
   ],
   "source": [
    "def linearSearch2(L, t):\n",
    "    t_prime = None\n",
    "    for i in range(len(L)):\n",
    "        if L[i] > t and t_prime == None:\n",
    "            t_prime = i\n",
    "        elif L[i] > t and L[i] < L[t_prime]:\n",
    "            t_prime = i\n",
    "    if t_prime == None:\n",
    "        return -1\n",
    "    return t_prime"
   ]
  },
  {
   "cell_type": "markdown",
   "metadata": {},
   "source": [
    "## Exercise 17.5\n",
    "\n",
    "Write the function `linearSearch3`, which takes in 2 parameters: \n",
    "\n",
    "1. a list of integers, `L`, and \n",
    "2. a target integer, `t`. \n",
    "\n",
    "This function will return the index of any instance in `L` that is **just less** than `t`.\n",
    "\n",
    "We define an element `t'` in `L` is “just less” than `t` if `t'` is less than `t`, but greater than (or equals) to any other element in `L` that is greater than `t`. If such any element does not exist in `L`, then the function will return `-1`. Your implementation should be based on the linear search algorithm."
   ]
  },
  {
   "cell_type": "code",
   "execution_count": 75,
   "metadata": {},
   "outputs": [
    {
     "name": "stdout",
     "output_type": "stream",
     "text": [
      "4\n"
     ]
    }
   ],
   "source": [
    "def linearSearch3(L, t):\n",
    "    t_prime = None\n",
    "    for i in range(len(L)):\n",
    "        if L[i] < t and t_prime == None:\n",
    "            t_prime = i\n",
    "        elif L[i] < t and L[i] > L[t_prime]:\n",
    "            t_prime = i\n",
    "    if t_prime == None:\n",
    "        return -1\n",
    "    return t_prime"
   ]
  },
  {
   "cell_type": "markdown",
   "metadata": {},
   "source": [
    "## Exercise 17.6\n",
    "\n",
    "The text file `DATA.TXT` contains student test scores. Each line of the file scores the results of a single student, and has the following format:\n",
    "\n",
    ">```python\n",
    "><student name>,<test score 1>,<test score 2>,<test score 3>,<test score 4>\n",
    ">```\t\n",
    "\n",
    "Here, <student name> is a string of letters, and each <test score i> corresponds to an integer.\n",
    "\n",
    "The maximum values for the test scores are as follows.\n",
    "- Test score 1 and 2: 50\n",
    "- Test score 3 and 4: 100\n",
    "\t\t\n",
    "The overall score for each student may be calculated by using the following weights:\n",
    "- Test score 1: 10%\n",
    "- Test score 2: 15%\n",
    "- Test score 3: 25%\n",
    "- Test score 4: 50%\n",
    "\n",
    "Write a script that will perform the following.\n",
    "\n",
    "1. Repeatedly ask the user if they wish to perform a search. If they reply no, the script terminates, else the script continues.\n",
    "\n",
    "2.  Asks the user to input one of the following search categories:\n",
    "\t- Overall score\n",
    "\t- Test score 1\n",
    "\t- Test score 2\n",
    "\t- Test score 3\n",
    "\t- Test score 4\n",
    "\n",
    "3. Asks the user to input a search parameter (i.e., the score that they wish to search for).\n",
    "\n",
    "4. Prints ALL the names of students that satisfy the search criteria. Note that you must implement an augmented version of linear search to perform this functionality. \n",
    "\n",
    "5. The script should then continue to the main loop in 1.\n",
    "\n",
    "Your implementation must include all necessary exception handling.\n"
   ]
  },
  {
   "cell_type": "code",
   "execution_count": 17,
   "metadata": {},
   "outputs": [
    {
     "name": "stdout",
     "output_type": "stream",
     "text": [
      "DSVNSNBXKXPG\n",
      "DQSGKAKWKZZT\n",
      "LGWTLWRUVGYU\n"
     ]
    }
   ],
   "source": [
    "import csv\n",
    "\n",
    "def overallScoreCalc(a, b, c, d):\n",
    "    return int(int(a)/50 * 10 + int(b)/50 * 15 + int(c)/100 * 25 + int(d)/100 * 50)\n",
    "\n",
    "with open(\"./resources/DATA.TXT\", \"r\") as f:\n",
    "    bigBoyList = []\n",
    "    reader = csv.reader(f)\n",
    "    for row in reader:\n",
    "        bigBoyList.append(row)\n",
    "\n",
    "while True:\n",
    "    inp = input(\"Do you wish to perform a search? (Y/n): \")\n",
    "    if inp != \"Y\" and inp != \"y\":\n",
    "        break\n",
    "    cat = input(\"Please input a search category (overall/1/2/3/4): \")\n",
    "    search = input(\"Please input a search parameter: \")\n",
    "       \n",
    "    if cat in [\"1\", \"2\", \"3\", \"4\"]:\n",
    "        for i in bigBoyList:\n",
    "            if search == i[int(cat)]:\n",
    "                print(i[0])\n",
    "    else:\n",
    "        for i in bigBoyList:\n",
    "            if int(search) == overallScoreCalc(i[1], i[2], i[3], i[4]):\n",
    "                print(i[0])\n",
    "        "
   ]
  },
  {
   "cell_type": "markdown",
   "metadata": {},
   "source": [
    "## Exercise 17.7\n",
    "\n",
    "Design an appropriate set of test cases to test if an implementation of a sorting algorithm (that sorts a list of integers). (Note, you should recall the 3 categories of test cases, and implement sufficient test cases for each.)"
   ]
  },
  {
   "cell_type": "code",
   "execution_count": null,
   "metadata": {},
   "outputs": [],
   "source": [
    "# error case\n",
    "[1, 2.3, 41, 23, 4, \"bob\"]\n",
    "\n",
    "# boundary case\n",
    "[]\n",
    "\n",
    "# normal case\n",
    "[1, 2, 3, 6, 4, 5]"
   ]
  },
  {
   "cell_type": "markdown",
   "metadata": {},
   "source": [
    "## Exercise 17.8\n",
    "\n",
    "Given a list of floating point values, `L`. Write the code to output:\n",
    "- The Minimum Value\n",
    "- The First Quartile Value\n",
    "- The Median Value\n",
    "- The Third Quartile Value\n",
    "- The Maximum Value\n",
    "\n",
    "You must implement the Quicksort algorithm to perform the necessary sorting.\n"
   ]
  },
  {
   "cell_type": "code",
   "execution_count": 2,
   "metadata": {},
   "outputs": [
    {
     "name": "stdout",
     "output_type": "stream",
     "text": [
      "Minimum Value: 0.05751142288803915\n",
      "First Quartile Value: 0.297431794278875\n",
      "Median Value: 0.5135899417111798\n",
      "Third Quartile Value: 0.7444209235740514\n",
      "Maximum Value: 0.9253272842022315\n"
     ]
    }
   ],
   "source": [
    "L = [0.5332524118317122, 0.8376832262101128, 0.9253272842022315, 0.05751142288803915, 0.297431794278875, 0.7444209235740514, 0.12074728159474817, 0.33942042899820207, 0.6525428199344485, 0.4939274715906473]\n",
    "\n",
    "def quicksort(arr):\n",
    "    # Base case: if the list is one or zero elements, it's already sorted.\n",
    "    if len(arr) <= 1:\n",
    "        return arr\n",
    "\n",
    "    # Choose a pivot. For simplicity, we're choosing the last element.\n",
    "    pivot = arr[-1]\n",
    "\n",
    "    # Partition the array into three lists:\n",
    "    # less_than_pivot, equals_pivot, and greater_than_pivot.\n",
    "    less_than_pivot = [x for x in arr[:-1] if x < pivot]\n",
    "    equals_pivot = [x for x in arr if x == pivot]\n",
    "    greater_than_pivot = [x for x in arr[:-1] if x > pivot]\n",
    "\n",
    "    # Recursively apply quicksort to the less_than_pivot and greater_than_pivot lists.\n",
    "    return quicksort(less_than_pivot) + equals_pivot + quicksort(greater_than_pivot)\n",
    "\n",
    "\n",
    "def find_median(sorted_list):\n",
    "    n = len(sorted_list)\n",
    "    if n % 2 == 0:\n",
    "        return (sorted_list[n // 2 - 1] + sorted_list[n // 2]) / 2\n",
    "    else:\n",
    "        return sorted_list[n // 2]\n",
    "\n",
    "def find_quartiles(L):\n",
    "    \n",
    "    L = quicksort(L)\n",
    "\n",
    "    \n",
    "    # Minimum value\n",
    "    min_val = L[0]\n",
    "    \n",
    "    # Median value\n",
    "    median = find_median(L)\n",
    "    \n",
    "    # Maximum value\n",
    "    max_val = L[-1]\n",
    "    \n",
    "    # Split the list into two halves\n",
    "    if len(L) % 2 == 0:\n",
    "        first_half = L[:len(L) // 2]\n",
    "        second_half = L[len(L) // 2:]\n",
    "    else:\n",
    "        first_half = L[:len(L) // 2]\n",
    "        second_half = L[len(L) // 2 + 1:]\n",
    "    \n",
    "    # First quartile (Q1) is the median of the first half\n",
    "    q1 = find_median(first_half)\n",
    "    \n",
    "    # Third quartile (Q3) is the median of the second half\n",
    "    q3 = find_median(second_half)\n",
    "    \n",
    "    return min_val, q1, median, q3, max_val\n",
    "\n",
    "min_val, q1, median, q3, max_val = find_quartiles(L)\n",
    "print(f\"Minimum Value: {min_val}\")\n",
    "print(f\"First Quartile Value: {q1}\")\n",
    "print(f\"Median Value: {median}\")\n",
    "print(f\"Third Quartile Value: {q3}\")\n",
    "print(f\"Maximum Value: {max_val}\")"
   ]
  },
  {
   "cell_type": "markdown",
   "metadata": {},
   "source": [
    "## Exercise 17.9 2015/A Level/P1/Q1 H2 Computing\n",
    "\n",
    "The file `ADMISSIONS—DATA.TXT` contains the daily total admissions to a theme park over a period of 50 days.\n",
    "\n",
    "The task is to read the numbers from the file and display a sorted list.\n",
    "\n",
    "You will program two different sort algorithms:\n",
    "\n",
    "- A bubble sort.\n",
    "- Either a quick sort or an insertion sort but not both.\n",
    "\n",
    "### Task 1\n",
    "Write code for a procedure to display a menu with the following options:\n",
    "\n",
    ">```python\n",
    ">1. Read file data\n",
    ">2. Bubble sort\n",
    ">3. Quick sort / Insertion sort\n",
    ">4. End\n",
    ">```\n",
    "\n",
    "### Task 2\n",
    "Write the program code for a procedure to implement menu option 1.\n",
    "\n",
    "#### Evidence 1\n",
    "- The program code for the menu.\n",
    "- Program code for menu option 1.\n",
    "\n",
    "<div style=\"text-align: right\">[5]</div>\n",
    "\n",
    "Options 2 and 3 will sort and display the sorted data.\n",
    "\n",
    "The algorithm for a bubble sort is given in file `BUBBLE.TXT`.\n",
    "Write program code as a procedure to implement the bubble sort.\n",
    "\n",
    "#### Evidence 2\n",
    "\n",
    ". The bubble sort code procedure.\n",
    "<div style=\"text-align: right\">[1]</div>\n",
    "\n",
    "Write program code as a procedure to implement the quick sort or the insertion sort.\n",
    "\n",
    "#### Evidence 3\n",
    "\n",
    "- Indicate the sort method used.\n",
    "- The program for the sort method used.\n",
    "\n",
    "<div style=\"text-align: right\">[4]</div>\n"
   ]
  },
  {
   "cell_type": "code",
   "execution_count": 19,
   "metadata": {},
   "outputs": [
    {
     "name": "stdout",
     "output_type": "stream",
     "text": [
      "\n",
      "    1. Read file data\n",
      "    2. Bubble sort\n",
      "    3. Insertion sort\n",
      "    4. End\n",
      "    \n",
      "[128, 341, 364, 233, 178, 190, 192, 80, 0, 0, 334, 231, 287, 165, 369, 339, 401, 113, 167, 190, 183, 173, 203, 203, 143, 138, 381, 364, 133, 78, 196, 192, 280, 103, 190, 224, 131, 185, 175, 369, 339, 301, 219, 273, 180, 143, 274, 199, 220, 256]\n",
      "\n",
      "    1. Read file data\n",
      "    2. Bubble sort\n",
      "    3. Insertion sort\n",
      "    4. End\n",
      "    \n",
      "[128, 341, 364, 233, 178, 190, 192, 80, 0, 0, 334, 231, 287, 165, 369, 339, 401, 113, 167, 190, 183, 173, 203, 203, 143, 138, 381, 364, 133, 78, 196, 192, 280, 103, 190, 224, 131, 185, 175, 369, 339, 301, 219, 273, 180, 143, 274, 199, 220, 256]\n",
      "[0, 0, 78, 80, 103, 113, 128, 131, 133, 138, 143, 143, 165, 167, 173, 175, 178, 180, 183, 185, 190, 190, 190, 192, 192, 196, 199, 203, 203, 219, 220, 224, 231, 233, 256, 273, 274, 280, 287, 301, 334, 339, 339, 341, 364, 364, 369, 369, 381, 401]\n",
      "\n",
      "    1. Read file data\n",
      "    2. Bubble sort\n",
      "    3. Insertion sort\n",
      "    4. End\n",
      "    \n",
      "[128, 341, 364, 233, 178, 190, 192, 80, 0, 0, 334, 231, 287, 165, 369, 339, 401, 113, 167, 190, 183, 173, 203, 203, 143, 138, 381, 364, 133, 78, 196, 192, 280, 103, 190, 224, 131, 185, 175, 369, 339, 301, 219, 273, 180, 143, 274, 199, 220, 256]\n",
      "[0, 0, 78, 80, 103, 113, 128, 131, 133, 138, 143, 143, 165, 167, 173, 175, 178, 180, 183, 185, 190, 190, 190, 192, 192, 196, 199, 203, 203, 219, 220, 224, 231, 233, 273, 274, 280, 287, 301, 334, 339, 339, 341, 364, 364, 369, 369, 381, 401, 256]\n",
      "\n",
      "    1. Read file data\n",
      "    2. Bubble sort\n",
      "    3. Insertion sort\n",
      "    4. End\n",
      "    \n"
     ]
    }
   ],
   "source": [
    "data = []\n",
    "\n",
    "while True:\n",
    "    # task 1\n",
    "\n",
    "    print(\"\"\"\n",
    "    1. Read file data\n",
    "    2. Bubble sort\n",
    "    3. Insertion sort\n",
    "    4. End\n",
    "    \"\"\")\n",
    "    menuInput = input(\"Choose your option: \")\n",
    "\n",
    "    if not menuInput in [\"1\", \"2\", \"3\"]:\n",
    "        break\n",
    "    \n",
    "    # task 2\n",
    "    if menuInput == \"1\":\n",
    "        with open(\"./resources/ADMISSIONS-DATA.txt\", \"r\") as f:\n",
    "            data = f.readlines()\n",
    "            data = [int(i.strip()) for i in data]\n",
    "            unsortedData = data\n",
    "        print(data)\n",
    "        \n",
    "    if menuInput == \"2\":\n",
    "        B = data.copy()\n",
    "        NoSwaps = False\n",
    "        while NoSwaps == False:\n",
    "            NoSwaps = True\n",
    "            for posn in range(0, len(B) - 1):\n",
    "                if B[posn] > B[posn + 1]:\n",
    "                    B[posn], B[posn + 1] = B[posn + 1], B[posn]\n",
    "                    NoSwaps = False            \n",
    "        print(data)\n",
    "        print(B)\n",
    "        \n",
    "    if menuInput == \"3\":\n",
    "        A = data.copy()\n",
    "        j = 0\n",
    "        for i in range(1, len(A) - 1):\n",
    "            j = i\n",
    "            while j > 0 and A[j] < A[j-1]:\n",
    "                A[j], A[j-1] = A[j-1], A[j]\n",
    "                j -= 1\n",
    "        print(data)\n",
    "        print(A)"
   ]
  },
  {
   "cell_type": "markdown",
   "metadata": {},
   "source": [
    "### Task 3\n",
    "Additional code is to be written for each sort procedure. The sort methods will count and display the number of comparisons made in completing the sort process. This will provide an indicator of the efficiency of each algorithm.\n",
    "\n",
    "Write the additional code to count and display the number of comparisons made for each sort method.\n",
    "\n",
    "#### Evidence 4\n",
    "- The output from menu option 2. \n",
    "<div style=\"text-align: right\">[2]</div>\n",
    "\n",
    "#### Evidence 5\n",
    "- The output from menu option 3. \n",
    "<div style=\"text-align: right\">[2]</div>"
   ]
  },
  {
   "cell_type": "code",
   "execution_count": 27,
   "metadata": {},
   "outputs": [
    {
     "name": "stdout",
     "output_type": "stream",
     "text": [
      "\n",
      "    1. Read file data\n",
      "    2. Bubble sort\n",
      "    3. Insertion sort\n",
      "    4. End\n",
      "    \n",
      "[128, 341, 364, 233, 178, 190, 192, 80, 0, 0, 334, 231, 287, 165, 369, 339, 401, 113, 167, 190, 183, 173, 203, 203, 143, 138, 381, 364, 133, 78, 196, 192, 280, 103, 190, 224, 131, 185, 175, 369, 339, 301, 219, 273, 180, 143, 274, 199, 220, 256]\n",
      "size of data: 50\n",
      "\n",
      "    1. Read file data\n",
      "    2. Bubble sort\n",
      "    3. Insertion sort\n",
      "    4. End\n",
      "    \n",
      "[128, 341, 364, 233, 178, 190, 192, 80, 0, 0, 334, 231, 287, 165, 369, 339, 401, 113, 167, 190, 183, 173, 203, 203, 143, 138, 381, 364, 133, 78, 196, 192, 280, 103, 190, 224, 131, 185, 175, 369, 339, 301, 219, 273, 180, 143, 274, 199, 220, 256]\n",
      "[0, 0, 78, 80, 103, 113, 128, 131, 133, 138, 143, 143, 165, 167, 173, 175, 178, 180, 183, 185, 190, 190, 190, 192, 192, 196, 199, 203, 203, 219, 220, 224, 231, 233, 256, 273, 274, 280, 287, 301, 334, 339, 339, 341, 364, 364, 369, 369, 381, 401]\n",
      "number of comparisons: 1715\n",
      "\n",
      "    1. Read file data\n",
      "    2. Bubble sort\n",
      "    3. Insertion sort\n",
      "    4. End\n",
      "    \n",
      "[128, 341, 364, 233, 178, 190, 192, 80, 0, 0, 334, 231, 287, 165, 369, 339, 401, 113, 167, 190, 183, 173, 203, 203, 143, 138, 381, 364, 133, 78, 196, 192, 280, 103, 190, 224, 131, 185, 175, 369, 339, 301, 219, 273, 180, 143, 274, 199, 220, 256]\n",
      "[0, 0, 78, 80, 103, 113, 128, 131, 133, 138, 143, 143, 165, 167, 173, 175, 178, 180, 183, 185, 190, 190, 190, 192, 192, 196, 199, 203, 203, 219, 220, 224, 231, 233, 256, 273, 274, 280, 287, 301, 334, 339, 339, 341, 364, 364, 369, 369, 381, 401]\n",
      "number of comparisons: 573\n",
      "\n",
      "    1. Read file data\n",
      "    2. Bubble sort\n",
      "    3. Insertion sort\n",
      "    4. End\n",
      "    \n"
     ]
    }
   ],
   "source": [
    "data = []\n",
    "\n",
    "while True:\n",
    "    # task 1\n",
    "\n",
    "    print(\"\"\"\n",
    "    1. Read file data\n",
    "    2. Bubble sort\n",
    "    3. Insertion sort\n",
    "    4. End\n",
    "    \"\"\")\n",
    "    menuInput = input(\"Choose your option: \")\n",
    "\n",
    "    if not menuInput in [\"1\", \"2\", \"3\"]:\n",
    "        break\n",
    "    \n",
    "    # task 2\n",
    "    if menuInput == \"1\":\n",
    "        with open(\"./resources/ADMISSIONS-DATA.txt\", \"r\") as f:\n",
    "            data = f.readlines()\n",
    "            data = [int(i.strip()) for i in data]\n",
    "            unsortedData = data\n",
    "        print(data)\n",
    "        print(f\"size of data: {len(data)}\")\n",
    "        \n",
    "    if menuInput == \"2\":\n",
    "        comparisons = 0\n",
    "        B = data.copy()\n",
    "        NoSwaps = False\n",
    "        while NoSwaps == False:\n",
    "            NoSwaps = True\n",
    "            for posn in range(0, len(B) - 1):\n",
    "                comparisons += 1\n",
    "                if B[posn] > B[posn + 1]:\n",
    "                    B[posn], B[posn + 1] = B[posn + 1], B[posn]\n",
    "                    NoSwaps = False            \n",
    "        print(data)\n",
    "        print(B)\n",
    "        print(f\"number of comparisons: {comparisons}\")\n",
    "        \n",
    "    if menuInput == \"3\":\n",
    "        comparisons = 0\n",
    "        A = data.copy()\n",
    "        j = 0\n",
    "        for i in range(1, len(A)):\n",
    "            j = i\n",
    "            while j > 0 and A[j] < A[j-1]:\n",
    "                comparisons += 1\n",
    "                A[j], A[j-1] = A[j-1], A[j]\n",
    "                j -= 1\n",
    "        print(data)\n",
    "        print(A)\n",
    "        print(f\"number of comparisons: {comparisons}\")"
   ]
  },
  {
   "cell_type": "markdown",
   "metadata": {},
   "source": [
    "## Exercise 17.10 2018/A Level/P1/Q2 H2 Computing\n",
    "\n",
    "The following algorithm is an implementation of a quick sort that operates on an array `Scores`. \n",
    "\n",
    "This algorithm assumes that the first element of an array is the zeroth element. This means that `Scores[0]` is the first element in the array.\n",
    "\n",
    "This pseudocode is available in the file `QUICKSORT.TXT`\n",
    "\n",
    ">```\n",
    ">FUNCTION QuickSort(Scores)\n",
    ">    QuickSortHelper(Scores, 0, LENGTH(Scores) — 1)\n",
    ">    RETURN Scores\n",
    ">ENDFUNCTION\n",
    ">\n",
    ">FUNCTION QuickSortHelper(Scores, First, Last)\n",
    ">    IF First < Last\n",
    ">        THEN \n",
    ">            SplitPoint ← PartitioniScores, First, Last)\n",
    ">            QuickSortHelper(Scores, First, SplitPoint — 1)\n",
    ">            QuickSortHelper(Scores, SplitPoint + 1, Last)\n",
    ">    ENDIF\n",
    ">    RETURN Scores\n",
    ">ENDFUNCTION\n",
    ">\n",
    ">FUNCTION Partition(Scores, First, Last)\n",
    ">    PivotValue ← Scores[First]\n",
    ">    LeftMark ← First + 1\n",
    ">    RightMark ← Last\n",
    ">    Done ← FALSE\n",
    ">    WHILE (Done = FALSE)\n",
    ">        WHILE LeftMark <= RightMark AND Scores[LeftMark] <= PivotValue\n",
    ">            LeftMark ← LeftMark + 1\n",
    ">        ENDWHILE\n",
    ">            WHILE ScoresiRightMark] >= PivotValue AND RightMark >= LeftMark\n",
    ">            RightMark ← RightMark — 1\n",
    ">        ENDWHILE\n",
    ">        IF RightMark < LeftMark\n",
    ">            THEN\n",
    ">                Done ← TRUE\n",
    ">        ELSE\n",
    ">            Temp ← Scores[LeftMark]\n",
    ">            Scores[LeftMark] ← Scores[RightMark]\n",
    ">            ScoresIRightMark] ← Temp\n",
    ">        ENDIF\n",
    ">    ENDWHILE\n",
    ">\n",
    ">    ##<swap Scores[First] with Scores[RightMark]>##\n",
    ">    \n",
    ">    RETURN RightMark\n",
    ">ENDFUNCTION\n",
    ">```\n",
    "\n",
    "### Task 1\n",
    "Write program code to implement this algorithm. Ensure that you add the missing code to complete the algorithm. The area of missing code is highlighted as:\n",
    "\n",
    ">```\n",
    "> ##<swap Scores [First] with Scores [RightMark]>##\n",
    ">```\n",
    "\n",
    "Copy the sample data available in the `SCORES.TXT` file. Paste this into your programming code to set up the data to be sorted.\n",
    "\n",
    "#### Evidence 4\n",
    "Your program code. \n",
    "\n",
    "<div style=\"text-align: right\">[12]</div>"
   ]
  },
  {
   "cell_type": "code",
   "execution_count": null,
   "metadata": {},
   "outputs": [],
   "source": [
    "#YOUR_CODE_HERE"
   ]
  },
  {
   "cell_type": "markdown",
   "metadata": {},
   "source": [
    "### Task 2\n",
    "Add a function to your code to output `Scores`. Call this function before and after the operation of the quick sort so that the unsorted and sorted data is displayed.\n",
    "\n",
    "#### Evidence 5\n",
    "Your program code. \n",
    "\n",
    "<div style=\"text-align: right\">[2]</div>\n",
    "\n",
    "#### Evidence 6\n",
    "Screenshot showing the unsorted and sorted Scores data. \n",
    "\n",
    "<div style=\"text-align: right\">[1]</div>"
   ]
  },
  {
   "cell_type": "code",
   "execution_count": null,
   "metadata": {},
   "outputs": [],
   "source": [
    "#YOUR_CODE_HERE"
   ]
  }
 ],
 "metadata": {
  "kernelspec": {
   "display_name": "Python 3",
   "language": "python",
   "name": "python3"
  },
  "language_info": {
   "codemirror_mode": {
    "name": "ipython",
    "version": 3
   },
   "file_extension": ".py",
   "mimetype": "text/x-python",
   "name": "python",
   "nbconvert_exporter": "python",
   "pygments_lexer": "ipython3",
   "version": "3.9.16"
  },
  "orig_nbformat": 2,
  "vscode": {
   "interpreter": {
    "hash": "a42ccb73e7d9bfdf27e036f1d2b8b681e55fc0743cc5586bc2474d4a60f4b886"
   }
  }
 },
 "nbformat": 4,
 "nbformat_minor": 2
}
