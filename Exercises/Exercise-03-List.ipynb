{
 "cells": [
  {
   "attachments": {},
   "cell_type": "markdown",
   "metadata": {},
   "source": [
    "# Exercise 3\n",
    "\n",
    "Related Notes:\n",
    "- Chapter_02_Programming_Constructs\n",
    "- Chapter_03_Data_Structures\n",
    "\n",
    "[![Open In Colab](https://colab.research.google.com/assets/colab-badge.svg)](https://colab.research.google.com/github/njc-cz2-2021/Materials/blob/main/Exercises/Exercise-03-List.ipynb) "
   ]
  },
  {
   "cell_type": "markdown",
   "metadata": {},
   "source": [
    "## Exercise 3.1 Dude, What's my Index?\n",
    "\n",
    "Consider the following list\n",
    "\n",
    "`[3, 1, 4, 1, 5, 9, 2, 6, 5, 3, 5, 8, 9, 7, 9, 3, 2, 3, 8, 4, 6, 2, 6, 4, 3, 3, 8, 3, 2, 7, 9, 5, 0, 2, 8, 8]`\n",
    "\n",
    "Write a program that print out:\n",
    "- the indices of occurence of each digit (0-9) in the list, and \n",
    "- its number of occurences in the list \n",
    "in the following format.\n",
    "> `<DIGIT> <LIST_OF_INDICES> <NO_OF_OCCURENCES>`<br>\n",
    "\n",
    "Example Output: \n",
    "\n",
    "> Digit 0 : \\[32\\] : 1 \n",
    "\n",
    "Try your program again with the following list.\n",
    "\n",
    "`[3, 1, 4, 1, 5, 9, 2, 6, 5, 3, 5, 8, 9, 7, 9, 3, 2, 3, 8, 4, 6, 2, 6, 4, 3, 3, 8, 3, 2, 7, 9, 5, 2, 8, 8]`"
   ]
  },
  {
   "cell_type": "code",
   "execution_count": 3,
   "metadata": {},
   "outputs": [
    {
     "name": "stdout",
     "output_type": "stream",
     "text": [
      "Digit 0 : [32] : 1\n",
      "Digit 1 : [1, 3] : 2\n",
      "Digit 2 : [6, 16, 21, 28, 33] : 5\n",
      "Digit 3 : [0, 9, 15, 17, 24, 25, 27] : 7\n",
      "Digit 4 : [2, 19, 23] : 3\n",
      "Digit 5 : [4, 8, 10, 31] : 4\n",
      "Digit 6 : [7, 20, 22] : 3\n",
      "Digit 7 : [13, 29] : 2\n",
      "Digit 8 : [11, 18, 26, 34, 35] : 5\n",
      "Digit 9 : [5, 12, 14, 30] : 4\n"
     ]
    }
   ],
   "source": [
    "a = [3, 1, 4, 1, 5, 9, 2, 6, 5, 3, 5, 8, 9, 7, 9, 3, 2, 3, 8, 4, 6, 2, 6, 4, 3, 3, 8, 3, 2, 7, 9, 5, 0, 2, 8, 8]\n",
    "b = [[], [], [], [], [], [], [], [], [], []]\n",
    "\n",
    "for i in range(10):\n",
    "    for j in range(len(a)):\n",
    "        if a[j] == i:\n",
    "            b[i].append(j)\n",
    "    print(f\"Digit {i} : {b[i]} : {len(b[i])}\")"
   ]
  },
  {
   "cell_type": "markdown",
   "metadata": {},
   "source": [
    "## Exercise 3.2 Some Heights Statistics\n",
    "\n",
    "Write a program that:\n",
    "- ask user to input the heights value (in centimeter) of $n$ students. The entered values are integer.\n",
    "- store the input values in list and print the list out\n",
    "- display the lowest, highest and mean of the height of these $n$ students. In case you have forgotten, mean is the arithmetic average.  \n",
    "\n",
    "Example Output: \n",
    "\n",
    ">Number of heights to be entered: 4<br>\n",
    ">100<br>\n",
    ">120<br>\n",
    ">110<br>\n",
    ">130<br>\n",
    ">The list of heights: \\[100,120,110,130\\]<br>\n",
    ">Minimum height is 100 cm, maximum height is 130 cm and the average height is 115.0 cm."
   ]
  },
  {
   "cell_type": "code",
   "execution_count": 5,
   "metadata": {},
   "outputs": [
    {
     "name": "stdout",
     "output_type": "stream",
     "text": [
      "The list of heights: [100, 120, 110, 130]\n",
      "Minimum height is 100 cm, maximum height is 130 cm and the average height is 115.0 cm.\n"
     ]
    }
   ],
   "source": [
    "n = int(input(\"Number of heights to be entered: 4\"))\n",
    "l = []\n",
    "for i in range(n):\n",
    "    l.append(int(input()))\n",
    "print(f\"The list of heights: {l}\")\n",
    "print(f\"Minimum height is {min(l)} cm, maximum height is {max(l)} cm and the average height is {sum(l)/n} cm.\")"
   ]
  },
  {
   "cell_type": "markdown",
   "metadata": {},
   "source": [
    "## Exercise 3.3 Binning\n",
    "\n",
    "In a school the grades obtained by a student in a certain subject depends on their mark, ranging from 0 to 100, obtained for the subject and it follows the following table.\n",
    "\n",
    "<center>\n",
    "\n",
    "| Marks ($m$)| Grade |\n",
    "|-------|-------|\n",
    "|   $m<40$    |    U     |\n",
    "|   $40\\leq m\\leq 44$     |    S     |\n",
    "|   $45\\leq m\\leq 49$    |    E     |\n",
    "|   $50\\leq m\\leq 54$    |    D     |\n",
    "|   $55\\leq m\\leq 59$    |    C     |\n",
    "|   $60\\leq m\\leq 69$    | B     |\n",
    "|   $m\\geq 70$    |    A     |\n",
    "\n",
    "</center>\n",
    "\n",
    "Following are the list of marks obtained by students from 2 different classes. `mark_1` is a list from one class and `mark_2` is a list from the other class.\n",
    "\n",
    "```\n",
    "mark_1 = [46, 41, 74, 53, 31, 39, 49, 57, 76, 80, 78, 38, 31, 56, 98, 55, 41, 73, 23, 88, 55, 60, 33, 40]\n",
    "\n",
    "mark_2= [69, 48, 50, 95, 87, 11, 28, 36, 25, 70, 25, 54, 33, 42, 27, 24, 44, 20, 61, 43, 30, 44, 7, 21]\n",
    "```\n",
    "\n",
    "Write a program that:\n",
    "- print outs the list of the students in each grade group for each of the classes in an *descending order* in the following format\n",
    ">`<GRADE> <LIST OF DESCENDING MARKS> <NO OF STUDENTS IN THE LIST>`<br>\n",
    "    - if there are no students receiving such grade, print the empty list `[]`.\n",
    "\n",
    "Example Output: \n",
    ">#Assume the marks are stored in the list \\[39,45,66,68,75\\]<br>\n",
    ">U: \\[39\\] 1 <br>\n",
    ">S: \\[45\\] 1 <br>\n",
    ">E: \\[\\] 0 <br>\n",
    ">D: \\[\\] 0 <br>\n",
    ">C: \\[\\] 0 <br>\n",
    ">B: \\[68,66\\] 2 <br>\n",
    ">A: \\[75\\] 1 <br>"
   ]
  },
  {
   "cell_type": "code",
   "execution_count": 8,
   "metadata": {},
   "outputs": [
    {
     "name": "stdout",
     "output_type": "stream",
     "text": [
      "For class 1:\n",
      "U: [31, 39, 38, 31, 23, 33, 40] 7\n",
      "S: [41, 41] 2\n",
      "E: [46, 49] 2\n",
      "D: [53] 1\n",
      "C: [57, 56, 55, 55] 4\n",
      "B: [60] 1\n",
      "A: [74, 76, 80, 78, 98, 73, 88] 7\n",
      "\n",
      "For class 2:\n",
      "U: [11, 28, 36, 25, 25, 33, 27, 24, 20, 30, 7, 21] 12\n",
      "S: [42, 44, 43, 44] 4\n",
      "E: [48] 1\n",
      "D: [50, 54] 2\n",
      "C: [] 0\n",
      "B: [69, 61] 2\n",
      "A: [95, 87, 70] 3\n"
     ]
    }
   ],
   "source": [
    "def gradeFinder(marks):\n",
    "    grades = [\"A\", \"B\", \"C\", \"D\", \"E\", \"S\", \"U\"]\n",
    "    marksLimit = [69, 59, 54, 49, 44, 40, -1]\n",
    "    for i in range(len(marksLimit)):\n",
    "        if marks > marksLimit[i]:\n",
    "            return grades[i]\n",
    "\n",
    "mark_1 = [46, 41, 74, 53, 31, 39, 49, 57, 76, 80, 78, 38, 31, 56, 98, 55, 41, 73, 23, 88, 55, 60, 33, 40]\n",
    "\n",
    "mark_2 = [69, 48, 50, 95, 87, 11, 28, 36, 25, 70, 25, 54, 33, 42, 27, 24, 44, 20, 61, 43, 30, 44, 7, 21]\n",
    "\n",
    "marks1Sorted = {\n",
    "    \"U\": [],\n",
    "    \"S\": [],\n",
    "    \"E\": [],\n",
    "    \"D\": [],\n",
    "    \"C\": [],\n",
    "    \"B\": [],\n",
    "    \"A\": [],\n",
    "}\n",
    "\n",
    "marks2Sorted = marks1Sorted.copy()\n",
    "\n",
    "for i in mark_1:\n",
    "    marks1Sorted[gradeFinder(i)].append(i)\n",
    "\n",
    "print(\"For class 1:\")\n",
    "for grades, values in marks1Sorted.items():\n",
    "    print(f\"{grades}: {values} {len(values)}\")\n",
    "\n",
    "for i in mark_2:\n",
    "    marks2Sorted[gradeFinder(i)].append(i)\n",
    "\n",
    "print(\"\\nFor class 2:\")\n",
    "for grades, values in marks2Sorted.items():\n",
    "    print(f\"{grades}: {values} {len(values)}\")"
   ]
  },
  {
   "attachments": {},
   "cell_type": "markdown",
   "metadata": {},
   "source": [
    "## Exercise 3.4 A Funny Interest\n",
    "\n",
    "Mr. $B$ was offered an investment opportunity with a company where if he was to invest \\$1000, he was guaranteed a $100\\%$ yearly interest rate, i.e. Mr. $B$ will be receive \\$2000 after 1 year, inclusive of his capital.  \n",
    "\n",
    "A friend of his that work in the company offers him another deal: same capital \\$1000, same yearly interest rate of $100\\%$ but applied quarterly for a year, meaning every 3 months, the applied interest rate to the current amount is $\\frac{100}{4}\\%=25\\%$. So, after 3rd month, his investment becomes \\$1250. After 6th month, it's \\$1562.50. After 9th month, it's \\$1953.13. \n",
    "Under this scheme, how much would Mr. $B$'s investment worth after a full year?\n",
    "\n",
    "Suppose that instead of applying the interest rate of 100% quarterly, a human error caused the interest rate to be applied *hourly* instead, for a full year. How much value will Mr. $B$'s investment worth then?"
   ]
  },
  {
   "cell_type": "code",
   "execution_count": 9,
   "metadata": {},
   "outputs": [
    {
     "name": "stdout",
     "output_type": "stream",
     "text": [
      "Mr B's investment is worth $2441.41\n",
      "If interest rate is applied hourly, his investment wil be worth $2718.13\n"
     ]
    }
   ],
   "source": [
    "months = 0\n",
    "investment = 1000\n",
    "while months != 12:\n",
    "    months += 3\n",
    "    investment *= 1.25\n",
    "print(f\"Mr B's investment is worth ${round(investment, 2)}\")\n",
    "\n",
    "hours = 0\n",
    "investment = 1000\n",
    "while hours != 24 * 365:\n",
    "    hours += 1\n",
    "    investment *= 1 + (1 / (24 * 365))\n",
    "print(f\"If interest rate is applied hourly, his investment wil be worth ${round(investment, 2)}\")"
   ]
  },
  {
   "cell_type": "markdown",
   "metadata": {},
   "source": [
    "## Exercise 3.5 Doubling My Money\n",
    "\n",
    "A customer is considering to deposit her money into a savings account with one of the locally available banks. As of 5th March 2021, the interest rates offered are given in the following table:\n",
    "\n",
    "<center>\n",
    "\n",
    "|         Savings Account        | Yearly Interest rate (%) |\n",
    "|:------------------------------:|:-----------------:|\n",
    "| BOC SmartSaver                 |         1         |\n",
    "| DBS Multiplier Account         |        0.4        |\n",
    "| UOB One Account                |        0.5        |\n",
    "| Standard Chartered Bonus$saver |        0.38       |\n",
    "| OCBC 360 Account               |        0.55       |\n",
    "\n",
    "</center>\n",
    "\n",
    "Write a program that:\n",
    "- Prints out a list that contains the number of years that is required for the money in savings account to double for each type of savings account.\n",
    "\n",
    "Example output: \n",
    "\n",
    ">With 1% yearly interest rate with BOC SmartSaver, it will take ___ years for the money to double.<br>\n",
    "\n",
    "For each of the savings account, compare the number of years obtained in the earlier part with the number $\\frac{72}{100r}$, where $r$ is the yearly interest rate. What do you observe? Can you explain your observation?"
   ]
  },
  {
   "cell_type": "code",
   "execution_count": 11,
   "metadata": {},
   "outputs": [
    {
     "name": "stdout",
     "output_type": "stream",
     "text": [
      "With 1% yearly interest rate with BOC SmartSaver, it will take 70 years for the money to double.\n",
      "With 0.4% yearly interest rate with DBS Multiplier Account, it will take 174 years for the money to double.\n",
      "With 0.5% yearly interest rate with UOB One Account, it will take 139 years for the money to double.\n",
      "With 0.38% yearly interest rate with Standard Chartered Bonus$aver, it will take 183 years for the money to double.\n",
      "With 0.55% yearly interest rate with OCBC 260 Account, it will take 127 years for the money to double.\n",
      "For BOC SmartSaver, 72/100r = 0.72\n",
      "For DBS Multiplier Account, 72/100r = 1.8\n",
      "For UOB One Account, 72/100r = 1.44\n",
      "For Standard Chartered Bonus$aver, 72/100r = 1.894736842105263\n",
      "For OCBC 260 Account, 72/100r = 1.3090909090909089\n"
     ]
    }
   ],
   "source": [
    "interestRates = {\n",
    "    \"BOC SmartSaver\" : 1,\n",
    "    \"DBS Multiplier Account\": 0.4,\n",
    "    \"UOB One Account\": 0.5,\n",
    "    \"Standard Chartered Bonus$aver\": 0.38,\n",
    "    \"OCBC 260 Account\": 0.55\n",
    "}\n",
    "\n",
    "for name, rate in interestRates.items():\n",
    "\n",
    "    balance = 1\n",
    "    years = 0\n",
    "\n",
    "    while balance < 2:\n",
    "        years += 1\n",
    "        balance = balance + balance * (rate/100)\n",
    "\n",
    "    print(f\"With {rate}% yearly interest rate with {name}, it will take {years} years for the money to double.\")\n",
    "\n",
    "for name, rate in interestRates.items():\n",
    "    print(f\"For {name}, 72/100r = {72 / (100 * rate)}\")\n",
    "\n",
    "\n",
    "\"\"\"\n",
    "They are close approximations of the number of years / 100\n",
    "\"\"\""
   ]
  },
  {
   "cell_type": "markdown",
   "metadata": {},
   "source": [
    "## Exercise 3.6 Arithmetic Sequence Revisited\n",
    "\n",
    "Recall from Exercise 1.2, an **arithmetic sequence** is a sequence of real numbers \n",
    "$$u_1,u_2,\\cdots, u_n$$\n",
    "such that the difference between two consecutive terms is constant, i.e. $u_{n+1}-u_n=d$ for some constant $d\\in \\mathbb{R}$ and $d\\neq 0$, called the **common difference** and $n\\geq 1$.\n",
    "\n",
    "The problem: \n",
    "- Request a numeric input from the user to be used as the first term.  Let us denote this input as `first_term`.\n",
    "- Request a numeric input from the user to be used as the common difference.  Let us denote this input as `common_difference`.\n",
    "- Request an integer input greater or equal to $4$ from the user for the number of terms.  Let us denote this input as `number_of_terms`. \n",
    "- Print out the list that contains the arithmetic sequence up to the $n$th term, where $n =$ `number_of_terms`.\n",
    "- Print the list that contains the first 3 terms of the arithmetic sequence. \n",
    "- Print the list that contains the last 4 terms of the arithmetic sequence. \n",
    "- Use an inbuilt function that accepts list as an input to calculate the sum of the first $n$ terms of the arithmetic sequence.\n",
    "\n",
    "Example interaction: \n",
    "\n",
    ">Please input the first term in the arithmetic sequence:<br>\n",
    ">2<br>\n",
    ">Please input the common difference:<br>\n",
    ">3<br>\n",
    ">Please input the number of terms:<br>\n",
    ">5<br>\n",
    ">The list containing the first 5 terms of the arithmetic sequence are:<br>\n",
    ">\\[2,5,8,11,14\\]<br>\n",
    ">The list of the first 3 terms of the sequence is:<br>\n",
    ">\\[2,5,8\\]<br>\n",
    ">The list of the last 4 terms of the sequence is:<br>\n",
    ">\\[5,8,11,14\\]<br>\n",
    ">The sum of all the terms in the sequence is:<br>\n",
    ">40<br>"
   ]
  },
  {
   "cell_type": "code",
   "execution_count": 3,
   "metadata": {},
   "outputs": [
    {
     "name": "stdout",
     "output_type": "stream",
     "text": [
      "The list containing the first 5 terms of the arithmetic sequence are: \n",
      "[2.0, 5.0, 8.0, 11.0, 14.0]\n",
      "The list of the first 3 terms of the sequence is:\n",
      "[2.0, 5.0, 8.0]\n",
      "The list of the last 4 terms of the sequence is:\n",
      "[5.0, 8.0, 11.0, 14.0]\n",
      "The sum of all the terms in the sequence is:\n",
      "40.0\n"
     ]
    }
   ],
   "source": [
    "first_term = float(input(\"Please input the first term in the arithmetic sequence: \"))\n",
    "common_difference = float(input(\"Please input the common difference: \"))\n",
    "number_of_terms = int(input(\"Please input the number of terms: \"))\n",
    "\n",
    "AS = [first_term + (i) * common_difference for i in range(0, number_of_terms)]\n",
    "\n",
    "print(f\"The list containing the first {number_of_terms} terms of the arithmetic sequence are: \")\n",
    "print(AS)\n",
    "\n",
    "print(\"The list of the first 3 terms of the sequence is:\")\n",
    "print(AS[:3])\n",
    "\n",
    "print(\"The list of the last 4 terms of the sequence is:\")\n",
    "print(AS[-4:])\n",
    "\n",
    "print(\"The sum of all the terms in the sequence is:\")\n",
    "print(sum(AS))\n",
    "\n"
   ]
  }
 ],
 "metadata": {
  "kernelspec": {
   "display_name": "Python 3",
   "language": "python",
   "name": "python3"
  },
  "language_info": {
   "codemirror_mode": {
    "name": "ipython",
    "version": 3
   },
   "file_extension": ".py",
   "mimetype": "text/x-python",
   "name": "python",
   "nbconvert_exporter": "python",
   "pygments_lexer": "ipython3",
   "version": "3.11.1"
  },
  "orig_nbformat": 2,
  "vscode": {
   "interpreter": {
    "hash": "033afebc77ce116f8b4e5adc75a85edec4479cc7d7b8a0d9079b4c316c15d572"
   }
  }
 },
 "nbformat": 4,
 "nbformat_minor": 2
}
