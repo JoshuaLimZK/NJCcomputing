{
 "cells": [
  {
   "attachments": {},
   "cell_type": "markdown",
   "metadata": {},
   "source": [
    "# Exercise 9\n",
    "\n",
    "Related Notes:\n",
    "- Chapter_06_Data_Validation_And_Program_Testing\n",
    "\n",
    "[![Open In Colab](https://colab.research.google.com/assets/colab-badge.svg)](https://colab.research.google.com/github/njc-cz2-2021/Materials/blob/main/Exercises/Exercise-09-Program-Testing-and-Data-Validation.ipynb) "
   ]
  },
  {
   "attachments": {},
   "cell_type": "markdown",
   "metadata": {},
   "source": [
    "## Exercise 9.1\n",
    "\n",
    "Consider the code in the code cell below.\n",
    "\n",
    "Clearly, there is a bug in this code. Identify the bug and then use a `try-except` statement to “fix” the code so that it works as intended. (Note that you may not utilise `else` or `finally` in the `try-except` statement.).\n",
    "\n",
    ">```python\n",
    ">numbers = [x for x in range(1000)]\n",
    ">i = 0\n",
    ">while True:\n",
    ">    print(str(numbers[i]))\n",
    ">    i += 1\n",
    ">```"
   ]
  },
  {
   "cell_type": "code",
   "execution_count": null,
   "metadata": {},
   "outputs": [],
   "source": [
    "numbers = [x for x in range(1000)]\n",
    "i = 0\n",
    "while True:\n",
    "    try:\n",
    "        print(str(numbers[i]))\n",
    "        i += 1\n",
    "    except IndexError:\n",
    "        pass"
   ]
  },
  {
   "attachments": {},
   "cell_type": "markdown",
   "metadata": {},
   "source": [
    "## Exercise 9.2\n",
    "\n",
    "Consider the code in the code cell below.\n",
    "\n",
    "Once again, there is a problem with this code. Use the `try-except` statement to ensure the code does not cause a runtime error. (Note: you may not change the way name is generated or used.)\n",
    "\n",
    ">```python\n",
    ">from random import randint\n",
    ">name = \"\"\n",
    ">for i in range(100):\n",
    ">    name = name + str(randint(0, 9))\n",
    ">    name = name + \".txt\"\n",
    ">    fileHandle = open(name)\n",
    ">    data = f.read()\n",
    ">    print(data)\n",
    ">    f.close()\n",
    ">```"
   ]
  },
  {
   "cell_type": "code",
   "execution_count": 15,
   "metadata": {},
   "outputs": [],
   "source": [
    "from random import randint\n",
    "name = \"\"\n",
    "for i in range(100):\n",
    "    name = name + str(randint(0, 9))\n",
    "    name = name + \".txt\"\n",
    "    try:\n",
    "        fileHandle = open(name)\n",
    "    except (FileNotFoundError, OSError):\n",
    "        continue\n",
    "    else:\n",
    "        data = f.read()\n",
    "        print(data)\n",
    "        f.close()"
   ]
  },
  {
   "attachments": {},
   "cell_type": "markdown",
   "metadata": {},
   "source": [
    "## Exercise 9.3\n",
    "\n",
    "Write code that continually asks for rational number input from the user (until the string `exit` is inputted). \n",
    "\n",
    "For each value entered, (if it is not the string `exit`) utilise exception handling to verify that the inputs are indeed rational numbers before saving them to the file called `RATIONALS.TXT`. (Note that your code should open, write, and close the file with each entry. Also comment why this may be a more prudent course of action.)\n",
    "\n"
   ]
  },
  {
   "cell_type": "code",
   "execution_count": 1,
   "metadata": {},
   "outputs": [
    {
     "name": "stdout",
     "output_type": "stream",
     "text": [
      "Input is not a rational number\n"
     ]
    }
   ],
   "source": [
    "from fractions import Fraction\n",
    "\n",
    "while True:\n",
    "    n = input(\"Input a rational number: \")\n",
    "    try:\n",
    "        n = float(Fraction(float(n)))\n",
    "    except ValueError:\n",
    "        if n == \"exit\": break\n",
    "        else: print(\"Input is not a rational number\")\n",
    "    else:\n",
    "        with open(\"./resources/rationals.txt\", \"a\") as f:\n",
    "            f.write(str(n))"
   ]
  },
  {
   "cell_type": "markdown",
   "metadata": {},
   "source": [
    "## Exercise 9.4\n",
    "\n",
    "The file `WORDS.TXT` under the folder `resources` contains a list of single word computing terms used in a textbook.\n",
    "\t\n",
    "Each entry has the following format:\n",
    ">```python\n",
    "><computing term>\n",
    "><number>\n",
    ">```\n",
    "\n",
    "One of the file entries (in both files) is:\n",
    ">```python\n",
    ">program\t\n",
    ">52\n",
    ">```\n",
    "\t\n",
    "This means that after a complete scan of the textbook the word `program` was found 52 times.\n",
    "\t\n",
    "By utilising the `try-except` statement, write program code to find and output the term with the highest number of occurrences.\n",
    "\n"
   ]
  },
  {
   "cell_type": "code",
   "execution_count": 34,
   "metadata": {},
   "outputs": [
    {
     "name": "stdout",
     "output_type": "stream",
     "text": [
      "'system' has the highest number of occurences, 86\n"
     ]
    }
   ],
   "source": [
    "with open(\"./resources/WORDS.TXT\", \"r\") as f:\n",
    "    raw_values = f.read()\n",
    "raw_values = raw_values.split(\"\\n\")[:-1]\n",
    "greatestWord = \"\"\n",
    "greatestValue = 0\n",
    "for i in range(len(raw_values)):\n",
    "    try:\n",
    "        if int(raw_values[i]) > greatestValue:\n",
    "            greatestValue = int(raw_values[i])\n",
    "            greatestWord = raw_values[i-1]\n",
    "    except ValueError:\n",
    "        continue\n",
    "\n",
    "print(f\"'{greatestWord}' has the highest number of occurences, {greatestValue}.\")\n",
    "        "
   ]
  },
  {
   "cell_type": "markdown",
   "metadata": {},
   "source": [
    "## Exercise 9.5 ISBN \n",
    "\n",
    "The International Standard Book Number (ISBN) is a numeric commercial book identifier which is intended to be unique. Publishers purchase ISBNs from an affiliate of the International ISBN Agency.\n",
    "\n",
    "Write a code that \n",
    "- takes in a string input,\n",
    "- return `True` if the string is either a valid ISBN-10 or ISBN-13 numbers.\n",
    "\n",
    "Each line in the text file, `ISBN_EXERCISE.TXT` under the folder `resources`, contain ISBN-10 or ISBN-13 which can be valid or invalid.\n",
    "\n",
    "Write a program to:\n",
    "- print out the valid ISBNs in the file.\n",
    "- print out the number of valid ISBNs in the file."
   ]
  },
  {
   "cell_type": "code",
   "execution_count": 53,
   "metadata": {},
   "outputs": [
    {
     "name": "stdout",
     "output_type": "stream",
     "text": [
      "978-0977304561 is a valid ISBN-13 number\n",
      "978-1593272838 is a valid ISBN-13 number\n",
      "978-1316626221 is a valid ISBN-13 number\n",
      "978-0470481288 is a valid ISBN-13 number\n",
      "1492032646 is a valid ISBN-10 number\n",
      "0465026567 is a valid ISBN-10 number\n",
      "978-0465026562 is a valid ISBN-13 number\n",
      "0465085989 is a valid ISBN-10 number\n",
      "978-0465085989 is a valid ISBN-13 number\n",
      "978-0521419970 is a valid ISBN-13 number\n",
      "There are 10 valid ISBN numbers\n"
     ]
    }
   ],
   "source": [
    "import csv\n",
    "\n",
    "def ISBN_checker(isbn):\n",
    "    if isbn[0:7] == \"ISBN-10\":\n",
    "        isbn = isbn[9:]\n",
    "        sum = 0\n",
    "        for i in range(len(isbn)):\n",
    "            sum += int(isbn[i]) * (10 - i)\n",
    "        return not sum % 11\n",
    "    elif isbn[0:7] == \"ISBN-13\":\n",
    "        isbn = isbn[9:].replace(\"-\", \"\")\n",
    "        sum = 0\n",
    "        for i in range(len(isbn)):\n",
    "            if i != len(isbn) - 1:\n",
    "                sum += int(isbn[i]) * (3 ** (i % 2))\n",
    "            else:\n",
    "                return isbn[i] == str(10 - sum % 10)\n",
    "\n",
    "with open(\"./resources/ISBN_EXERCISE.txt\", \"r\") as f:\n",
    "    reader = csv.reader(f)\n",
    "    validNum = 0\n",
    "    for row in reader:\n",
    "        if ISBN_checker(row[0]):\n",
    "            print(f\"{row[0][9:]} is a valid {row[0][:7]} number\")\n",
    "            validNum += 1\n",
    "    print(f\"There are {validNum} valid ISBN numbers\")"
   ]
  }
 ],
 "metadata": {
  "kernelspec": {
   "display_name": "Python 3",
   "language": "python",
   "name": "python3"
  },
  "language_info": {
   "codemirror_mode": {
    "name": "ipython",
    "version": 3
   },
   "file_extension": ".py",
   "mimetype": "text/x-python",
   "name": "python",
   "nbconvert_exporter": "python",
   "pygments_lexer": "ipython3",
   "version": "3.11.1"
  },
  "vscode": {
   "interpreter": {
    "hash": "033afebc77ce116f8b4e5adc75a85edec4479cc7d7b8a0d9079b4c316c15d572"
   }
  }
 },
 "nbformat": 4,
 "nbformat_minor": 2
}
