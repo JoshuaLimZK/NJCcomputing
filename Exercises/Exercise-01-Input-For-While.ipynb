{
 "cells": [
  {
   "cell_type": "markdown",
   "metadata": {},
   "source": [
    "# Exercise 1\n",
    "\n",
    "Related Notes:\n",
    "- Chapter_01_Data_Types\n",
    "- Chapter_02_Programming_Constructs\n",
    "\n",
    "[![Open In Colab](https://colab.research.google.com/assets/colab-badge.svg)](https://colab.research.google.com/github/njc-cz2-2021/Materials/blob/main/Exercises/Exercise-01-Input-For-While.ipynb)"
   ]
  },
  {
   "cell_type": "markdown",
   "metadata": {},
   "source": [
    "# Exercise 1.1 Unit Converter\n",
    " \n",
    "Write a program that helps the user to convert a given quantity from one unit of (distance, area or volume) measurement to another. \n",
    " \n",
    "The problem: \n",
    "-\tRequest a quantity from the user. \n",
    "-\tHave the user specify if the quantity is a `length`, `area` or `volume`. \n",
    "-\tHave the user select the base unit of measurement from the following list: \n",
    "    - `mm`, \n",
    "    - `cm`, \n",
    "    - `m`, or \n",
    "    - `km`. \n",
    "-\tThen have the user select the desired base unit of measurement that the given quantity should be converted to. \n",
    "-\tPrint out converted quantity (including the new unit of measurement). \n",
    " \n",
    "Example interaction: \n",
    "\n",
    ">Input a quantity: 10 <br>\n",
    ">Select either length, area or volume: area <br>\n",
    ">Select the base unit of measurement (m, cm, m, km) : m <br>\n",
    ">Select which base unit of measurement to convert to (mm, cm, m, km) : cm <br>\n",
    ">10 m^2 = 100000 cm^2 \n",
    "\n"
   ]
  },
  {
   "cell_type": "code",
   "execution_count": 4,
   "metadata": {},
   "outputs": [
    {
     "name": "stdout",
     "output_type": "stream",
     "text": [
      "100 km^2 = 100000000000000.0 mm^2\n"
     ]
    }
   ],
   "source": [
    "startQuantity = int(input(\"Input a quantity: \"))\n",
    "\n",
    "measurementList = [\"\", \"length\", \"area\", \"volume\"]\n",
    "measurementChoice = input(\"Select either length, area or volume: \")\n",
    "\n",
    "prefixList = [\"m\", \"c\", \"\", \"k\"]\n",
    "conversionValues = [0.001, 0.01, 1, 1000]\n",
    "\n",
    "startUnit = input(\"Select the base unit of measurement (mm, cm, m, km): \")\n",
    "\n",
    "endUnit = input(\"Select which base unit of measurement to convert to (mm, cm, m, km): \")\n",
    "\n",
    "startPrefix = startUnit[-2::-1]\n",
    "endPrefix = endUnit[-2::-1]\n",
    "\n",
    "baseQuantity = startQuantity * (conversionValues[prefixList.index(startPrefix)] ** measurementList.index(measurementChoice))\n",
    "endQuantity = baseQuantity / (conversionValues[prefixList.index(endPrefix)] ** measurementList.index(measurementChoice))\n",
    "\n",
    "print(f\"{startQuantity} {startPrefix}m^{measurementList.index(measurementChoice)} = {endQuantity} {endPrefix}m^{measurementList.index(measurementChoice)}\")"
   ]
  },
  {
   "cell_type": "markdown",
   "metadata": {},
   "source": [
    "# Exercise 1.2\n",
    "\n",
    "In mathematics, an **arithmetic sequence** is a sequence of real numbers \n",
    "$$u_1,u_2,\\cdots, u_n$$\n",
    "such that the difference between two consecutive terms is constant, i.e. $u_{n+1}-u_n=d$ for some constant $d\\in \\mathbb{R}$, called the **common difference** and $n\\geq 1$.\n",
    "\n",
    "For example, the sequence $2,5,8,11,14,\\dots$ is an arithmetic sequence with first term $2$ and common difference $3$.\n",
    "\n",
    "Write a program to generate the first $n$ terms of an arithmetic sequence with a user defined first term $a$ and common difference $d$.\n",
    "\n",
    "The problem: \n",
    "- Request a numeric input from the user to be used as the first term.  Let us denote this input as `first_term`.\n",
    "- Request a numeric input from the user to be used as the common difference.  Let us denote this input as `common_difference`.\n",
    "- Request an integer input from the user for the number of terms.  Let us denote this input as `number_of_terms`.\n",
    "- Print out the sequence up to the $n$th term.\n",
    "\n",
    "Example interaction: \n",
    "\n",
    ">Please input the first term in the arithmetic sequence:<br>\n",
    ">2<br>\n",
    ">Please input the common difference:<br>\n",
    ">3<br>\n",
    ">Please input the number of terms:<br>\n",
    ">5<br>\n",
    ">The first 5 terms of the arithmetic sequence are:<br>\n",
    ">2<br>\n",
    ">5<br>\n",
    ">8<br>\n",
    ">11<br>\n",
    ">14<br>"
   ]
  },
  {
   "cell_type": "code",
   "execution_count": 5,
   "metadata": {},
   "outputs": [
    {
     "name": "stdout",
     "output_type": "stream",
     "text": [
      "The first 5 terms of the arithmetic sequence are:\n",
      "2.0\n",
      "5.0\n",
      "8.0\n",
      "11.0\n",
      "14.0\n"
     ]
    }
   ],
   "source": [
    "first_term = float(input(\"Please input the first term in the arithmetic sequence:\\n\"))\n",
    "common_difference = float(input(\"Please input the common difference:\\n\"))\n",
    "number_of_terms = int(input(\"Please input the number of terms:\\n\"))\n",
    "print(\"The first 5 terms of the arithmetic sequence are:\")\n",
    "for i in range(number_of_terms):\n",
    "    print(first_term)\n",
    "    first_term += common_difference"
   ]
  },
  {
   "cell_type": "markdown",
   "metadata": {},
   "source": [
    "# Exercise 1.3\n",
    "\n",
    "Given an arithmetic sequence with first term $a$ and common difference $d$.\n",
    "\n",
    "Write a program that:\n",
    "- Request a numeric input from the user to be used as the first term.  Let us denote this input as `first_term`.\n",
    "- Request a numeric input from the user to be used as the common difference.  Let us denote this input as `common_difference`.\n",
    "- Request an integer input from the user for the index for the term in the sequence.  Let us denote this input as `n`.\n",
    "- Print out the $n$th term in the sequence.\n",
    "- Print out the sum of the first $n$ terms in the sequence.\n",
    "\n",
    "Example interaction: \n",
    "\n",
    ">Please input the first term in the arithmetic sequence:<br>\n",
    ">2<br>\n",
    ">Please input the common difference:<br>\n",
    ">3<br>\n",
    ">Please input the index :<br>\n",
    ">5<br>\n",
    ">The 5th term in the sequence is:<br>\n",
    ">14<br>\n",
    ">The sum of the first 5 terms in the sequence is:<br>\n",
    ">40<br>"
   ]
  },
  {
   "cell_type": "code",
   "execution_count": 7,
   "metadata": {},
   "outputs": [
    {
     "name": "stdout",
     "output_type": "stream",
     "text": [
      "Term 5 in the sequence is:\n",
      "14.0\n",
      "The sum of the first 5 terms in the sequence is:\n",
      "40.0\n"
     ]
    }
   ],
   "source": [
    "first_term = float(input(\"Please input the first term in the arithmetic sequence:\\n\"))\n",
    "common_difference = float(input(\"Please inpnut the common difference:\\n\"))\n",
    "n = int(input(\"Please input the index:\\n\"))\n",
    "total = 0\n",
    "first_term -= common_difference\n",
    "for i in range(n):\n",
    "    first_term += common_difference\n",
    "    total += first_term\n",
    "print(f\"Term {n} in the sequence is:\")\n",
    "print(first_term)\n",
    "print(f\"The sum of the first {n} terms in the sequence is:\")\n",
    "print(total)"
   ]
  },
  {
   "cell_type": "markdown",
   "metadata": {},
   "source": [
    "# Exercise 1.4\n",
    "\n",
    "An arithmetic sequence $u_1, u_2, u_3, \\cdots$ is defined by $u_r=3r-1$ for $r\\in \\mathbb{Z}^{+}$. Find the least value of $n$ such that $u_3+u_6+u_9+\\cdots+u_n$ exceeds $1700$, where $n$ is a multiple of 3. "
   ]
  },
  {
   "cell_type": "code",
   "execution_count": 9,
   "metadata": {},
   "outputs": [
    {
     "name": "stdout",
     "output_type": "stream",
     "text": [
      "60\n"
     ]
    }
   ],
   "source": [
    "total = 0\n",
    "n = 0\n",
    "while total < 1700:\n",
    "    n += 3\n",
    "    total = 0\n",
    "    for i in range(3, n+1, 3):\n",
    "        total += 3 * i - 1\n",
    "print(n)"
   ]
  },
  {
   "cell_type": "markdown",
   "metadata": {},
   "source": [
    "# Exercise 1.5 2012/GCE A-Level/P2/Q4(i) H2 Mathematics\n",
    "\n",
    "On 1 January 2001 Mrs $A$ put \\$100 into a bank account, and on the first day of each subsequent month she put in \\$10 more than in the previous month. Thus on 1 February she put \\$110 into the account and on 1 March she put \\$120 into the account, and so on. The account pays no interest.\n",
    "\n",
    "On what date did the value of Mrs $A$'s account first become greater than $5000?"
   ]
  },
  {
   "cell_type": "code",
   "execution_count": 14,
   "metadata": {},
   "outputs": [
    {
     "name": "stdout",
     "output_type": "stream",
     "text": [
      "Mrs A's account first became greater than $5000 on 1 May 2001\n"
     ]
    }
   ],
   "source": [
    "balance = 0\n",
    "addition = 100\n",
    "monthCount = 0\n",
    "while balance < 5000:\n",
    "    balance += addition\n",
    "    addition += 10\n",
    "    monthCount += 1\n",
    "\n",
    "months = [\"January\", \"Feburary\", \"March\", \"April\", \"May\", \"June\", \"July\", \"August\", \"September\", \"October\", \"November\", \"December\"]\n",
    "\n",
    "print(f\"Mrs A's account first became greater than $5000 on 1 {months[monthCount % 12]} {2001 + monthCount//12}\")"
   ]
  }
 ],
 "metadata": {
  "kernelspec": {
   "display_name": "Python 3",
   "language": "python",
   "name": "python3"
  },
  "language_info": {
   "codemirror_mode": {
    "name": "ipython",
    "version": 3
   },
   "file_extension": ".py",
   "mimetype": "text/x-python",
   "name": "python",
   "nbconvert_exporter": "python",
   "pygments_lexer": "ipython3",
   "version": "3.11.1"
  },
  "vscode": {
   "interpreter": {
    "hash": "033afebc77ce116f8b4e5adc75a85edec4479cc7d7b8a0d9079b4c316c15d572"
   }
  }
 },
 "nbformat": 4,
 "nbformat_minor": 2
}
