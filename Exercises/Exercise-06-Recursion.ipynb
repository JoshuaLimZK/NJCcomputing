{
 "cells": [
  {
   "attachments": {},
   "cell_type": "markdown",
   "metadata": {},
   "source": [
    "# Exercise 6\n",
    "\n",
    "Related Notes:\n",
    "- Chapter_04_Functions\n",
    "\n",
    "For each question, you are to implement both :\n",
    "- an **iterative version**, and \n",
    "- a **recursive version** \n",
    "of the function specified.\n",
    "\n",
    "Please decide on your own function name.\n",
    "\n",
    "[![Open In Colab](https://colab.research.google.com/assets/colab-badge.svg)](https://colab.research.google.com/github/njc-cz2-2021/Materials/blob/main/Exercises/Exercise-06-Recursion.ipynb) "
   ]
  },
  {
   "cell_type": "markdown",
   "metadata": {},
   "source": [
    "## Exercise 6.1 \n",
    "\n",
    "Write a function that takes in a positive integer $n$, and prints the numbers from $n$ to $0$ (in descending order).\n",
    "Example interaction: \n",
    "\n",
    ">```\n",
    ">your_function(3)\n",
    ">3\n",
    ">2\n",
    ">1\n",
    ">0\n",
    ">```"
   ]
  },
  {
   "cell_type": "code",
   "execution_count": 8,
   "metadata": {},
   "outputs": [
    {
     "name": "stdout",
     "output_type": "stream",
     "text": [
      "3\n",
      "2\n",
      "1\n",
      "0\n",
      "3\n",
      "2\n",
      "1\n",
      "0\n"
     ]
    }
   ],
   "source": [
    "def iter_your_function(n):\n",
    "    print(*[n - i for i in range(n + 1)], sep=\"\\n\")\n",
    "\n",
    "def rec_your_function(n):\n",
    "    print(n)\n",
    "    if n > 0:\n",
    "        rec_your_function(n - 1)\n",
    "\n",
    "iter_your_function(3)\n",
    "rec_your_function(3)"
   ]
  },
  {
   "cell_type": "markdown",
   "metadata": {},
   "source": [
    "## Exercise 6.2 \n",
    "\n",
    "Without using the `**` operator, write a function that takes in 2 inputs: \n",
    "1. a base, $x$, and \n",
    "2. an exponent $n$, and \n",
    "then returns the value $x^n$. You may not import the `math` module, and you may not use the built-in `pow()` function.\n",
    "\n",
    ">```\n",
    ">your_function(3,2)\n",
    ">9\n",
    ">```"
   ]
  },
  {
   "cell_type": "code",
   "execution_count": 1,
   "metadata": {},
   "outputs": [],
   "source": [
    "def iter_your_function(a, b):\n",
    "    total = 1\n",
    "    for i in range(abs(b)):\n",
    "        total *= a\n",
    "    if b < 0:\n",
    "        return 1 / total\n",
    "    return total\n",
    "\n",
    "def rec_your_function(a, b):\n",
    "    if b == 0:\n",
    "        return 1\n",
    "    elif b < 0:\n",
    "        return 1 / rec_your_function(a, -b)\n",
    "    return a * rec_your_function(a, b - 1)"
   ]
  },
  {
   "attachments": {},
   "cell_type": "markdown",
   "metadata": {},
   "source": [
    "## Exercise 6.3\n",
    "\n",
    "Write a function that takes in a positive integer $n$, and returns the number of digits in $n$. You may not use the built-in `str()` function.\n",
    "\n",
    ">```\n",
    ">your_function(12345678910)\n",
    ">11\n",
    ">```"
   ]
  },
  {
   "cell_type": "code",
   "execution_count": 5,
   "metadata": {},
   "outputs": [
    {
     "name": "stdout",
     "output_type": "stream",
     "text": [
      "11\n"
     ]
    }
   ],
   "source": [
    "def iter_your_function(a):\n",
    "    count = 1\n",
    "    while a // 10 != 0:\n",
    "        count += 1\n",
    "        a //= 10\n",
    "    return count\n",
    "\n",
    "def rec_your_function(a):\n",
    "    if a // 10 == 0:\n",
    "        return 1\n",
    "    return 1 + rec_your_function(a // 10)\n",
    "\n",
    "print(rec_your_function(12345678910))"
   ]
  },
  {
   "cell_type": "markdown",
   "metadata": {},
   "source": [
    "## Exercise 6.4\n",
    "\n",
    "Write a function that takes in a string, `s`, and returns a reversed copy of `s`. The only string operation you are allowed to use is string concatenation.\n",
    "\n",
    ">```\n",
    ">your_function(`CJN`)\n",
    ">NJC\n",
    ">```"
   ]
  },
  {
   "cell_type": "code",
   "execution_count": 6,
   "metadata": {},
   "outputs": [],
   "source": [
    "def iter_your_function(a):\n",
    "    b = \"\"\n",
    "    for i in range(len(a)):\n",
    "        b += a[len(a) - i - 1]\n",
    "    return b\n",
    "\n",
    "def rec_your_function(a):\n",
    "    if a == \"\":\n",
    "        return \"\"\n",
    "    return rec_your_function(a[1:]) + a[0]"
   ]
  },
  {
   "cell_type": "markdown",
   "metadata": {},
   "source": [
    "## Exercise 6.5\n",
    "\n",
    "Write a function that takes in a list of integers and returns the sum of the integers in that list. You may not import the `math` module, and you may not use the `sum()` built-in function.\n",
    "\n",
    ">```\n",
    ">your_function([1,2,3])\n",
    ">6\n",
    ">```"
   ]
  },
  {
   "cell_type": "code",
   "execution_count": 14,
   "metadata": {},
   "outputs": [
    {
     "name": "stdout",
     "output_type": "stream",
     "text": [
      "6\n"
     ]
    }
   ],
   "source": [
    "def iter_your_function(a):\n",
    "    total = 0\n",
    "    for i in a:\n",
    "        total += i\n",
    "    return total\n",
    "\n",
    "def rec_your_function(a):\n",
    "    if a == []:\n",
    "        return 0\n",
    "    return a[0] + rec_your_function(a[1:])\n",
    "\n",
    "print(rec_your_function([1, 2, 3]))"
   ]
  },
  {
   "cell_type": "markdown",
   "metadata": {},
   "source": [
    "## Exercise 6.6\n",
    "\n",
    "Write a function that takes in a list of real numbers and returns the mean of all the values in the list. You may not import the math module, and you may not use the `sum()` built-in function.\n",
    "\n",
    ">```\n",
    ">your_function([1,2,3])\n",
    ">2\n",
    ">```"
   ]
  },
  {
   "cell_type": "code",
   "execution_count": 7,
   "metadata": {},
   "outputs": [
    {
     "name": "stdout",
     "output_type": "stream",
     "text": [
      "2.0\n"
     ]
    }
   ],
   "source": [
    "def iter_your_function(a:list) -> int:\n",
    "    total = 0\n",
    "    for i in a:\n",
    "        total += i\n",
    "    return total/len(a)\n",
    "\n",
    "def rec_your_function(a:list) -> int:\n",
    "    if len(a) == 1:\n",
    "        return a[0]\n",
    "    return (a[0] + (len(a) - 1) * rec_your_function(a[1:])) / len(a)\n",
    "\n",
    "print(rec_your_function([1, 2, 3]))"
   ]
  },
  {
   "cell_type": "markdown",
   "metadata": {},
   "source": [
    "## Exercise 6.7\n",
    "\n",
    "Write a function that takes in a list of real numbers and returns the minimum value from that list. You may not use the built-in `min()` and `sorted()` functions, and you may not use the `list.sort()` method.\n",
    "\n",
    ">```\n",
    ">your_function([1,2,3])\n",
    ">1\n",
    ">```"
   ]
  },
  {
   "cell_type": "code",
   "execution_count": 4,
   "metadata": {},
   "outputs": [
    {
     "name": "stdout",
     "output_type": "stream",
     "text": [
      "2354\n"
     ]
    }
   ],
   "source": [
    "def iter_your_function(a: list) -> int:\n",
    "    highest = 0\n",
    "    for i in a:\n",
    "        if a > highest:\n",
    "            highest = a\n",
    "    return highest\n",
    "\n",
    "def rec_your_function(a: list) -> int:\n",
    "    if len(a) == 1:\n",
    "        return a[0]\n",
    "    if a[0] > a[1]:\n",
    "        a.pop(1)\n",
    "    else:\n",
    "        a.pop(0)\n",
    "    return rec_your_function(a)"
   ]
  },
  {
   "cell_type": "code",
   "execution_count": 20,
   "metadata": {},
   "outputs": [
    {
     "name": "stdout",
     "output_type": "stream",
     "text": [
      "[1, 2, 3, 4, 5, 6, 7, 8, 9, 10, 11, 12, 13, 14, 15, 16, 17]\n"
     ]
    }
   ],
   "source": [
    "nested_list = [1, 2, 3, [4, 5, [6, 7, [8, 9, 10], 11, 12], 13, 14], 15, 16, 17]\n",
    "def listFlattener(a):\n",
    "    output_list = []\n",
    "    for i in a:\n",
    "        if type(i) == int:\n",
    "            output_list.append(i)\n",
    "        else:\n",
    "            output_list += listFlattener(i)\n",
    "\n",
    "    return output_list\n",
    "\n",
    "print(listFlattener(nested_list))"
   ]
  }
 ],
 "metadata": {
  "kernelspec": {
   "display_name": "Python 3",
   "language": "python",
   "name": "python3"
  },
  "language_info": {
   "codemirror_mode": {
    "name": "ipython",
    "version": 3
   },
   "file_extension": ".py",
   "mimetype": "text/x-python",
   "name": "python",
   "nbconvert_exporter": "python",
   "pygments_lexer": "ipython3",
   "version": "3.11.1"
  },
  "orig_nbformat": 2,
  "vscode": {
   "interpreter": {
    "hash": "033afebc77ce116f8b4e5adc75a85edec4479cc7d7b8a0d9079b4c316c15d572"
   }
  }
 },
 "nbformat": 4,
 "nbformat_minor": 2
}
