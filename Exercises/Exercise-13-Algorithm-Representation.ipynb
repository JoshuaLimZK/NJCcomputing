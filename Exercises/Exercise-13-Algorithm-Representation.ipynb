{
 "cells": [
  {
   "attachments": {},
   "cell_type": "markdown",
   "metadata": {},
   "source": [
    "# Exercise 13\n",
    "\n",
    "Related Notes:\n",
    "- Chapter_08_Algorithmic_Representation\n",
    "\n",
    "[![Open In Colab](https://colab.research.google.com/assets/colab-badge.svg)](https://colab.research.google.com/github/njc-cz2-2021/Materials/blob/main/Exercises/Exercise-13-Algorithm-Representation.ipynb) "
   ]
  },
  {
   "cell_type": "markdown",
   "metadata": {},
   "source": [
    "## Exercise 13.1\n",
    "\n",
    "The following algorithm inputs two integer numbers and outputs all the integers from the first number to the last number.\n",
    ">```\n",
    "> INPUT FirstNumber\n",
    "> INPUT LastNumber\n",
    "> FOR Number ← FirstNumber TO SecondNumber\n",
    ">   OUTPUT Number\n",
    ">   ENDFOR Number\n",
    ">```\n",
    "\n",
    "1. Rewrite this algorithm in pseudocode using \n",
    "    - a `WHILE-ENDWHILE` loop,\n",
    "    - a `REPEAT-UNTIL` loop,\n",
    "2. Implement your pseudocode in Python."
   ]
  },
  {
   "cell_type": "raw",
   "metadata": {
    "dotnet_interactive": {
     "language": "csharp"
    },
    "polyglot_notebook": {
     "kernelName": "csharp"
    }
   },
   "source": [
    "INPUT FirstNumber\n",
    "INPUT LastNumber\n",
    "WHILE FirstNumber <= LastNumber DO\n",
    "    OUTPUT FirstNumber\n",
    "    FirstNumber <- FirstNumber + 1\n",
    "ENDWHILE"
   ]
  },
  {
   "cell_type": "raw",
   "metadata": {
    "dotnet_interactive": {
     "language": "csharp"
    },
    "polyglot_notebook": {
     "kernelName": "csharp"
    }
   },
   "source": [
    "INPUT FirstNumber\n",
    "INPUT LastNumber\n",
    "REPEAT\n",
    "    OUTPUT FirstNumber\n",
    "    FirstNumber <- FirstNumber + 1\n",
    "UNTIL FirstNumber > LastNumber"
   ]
  },
  {
   "cell_type": "code",
   "execution_count": null,
   "metadata": {
    "dotnet_interactive": {
     "language": "csharp"
    },
    "polyglot_notebook": {
     "kernelName": "csharp"
    }
   },
   "outputs": [],
   "source": [
    "FirstNumber = int(input())\n",
    "LastNumber = int(input())\n",
    "while FirstNumber <= LastNumber:\n",
    "    print(FirstNumber)\n",
    "    FirstNumber += 1"
   ]
  },
  {
   "cell_type": "markdown",
   "metadata": {},
   "source": [
    "## Exercise 13.2\n",
    "\n",
    "An algorithm is required to ask the user to input a number.\n",
    "If the number is zero, stop.\n",
    "If the number is positive, output the number.\n",
    "If the number is negative, square the number, and output the square and square root of the answer.\n",
    "\n",
    "1. Write the algorithm in pseudocode.\n",
    "2. Draw the flowchart of the algorithm.\n",
    "3. Implement the algorithm in Python."
   ]
  },
  {
   "cell_type": "raw",
   "metadata": {
    "dotnet_interactive": {
     "language": "csharp"
    },
    "polyglot_notebook": {
     "kernelName": "csharp"
    }
   },
   "source": [
    "OUTPUT \"Please input a number: \"\n",
    "INPUT number\n",
    "number <- TYPECAST number TO REAL\n",
    "IF number > 0 \n",
    "    THEN\n",
    "    OUTPUT number\n",
    "    ELSE\n",
    "        IF number < 0\n",
    "            THEN\n",
    "                OUTPUT number POWER 2\n",
    "                OUTPUT number POWER (1 / 2)\n",
    "        ENDIF\n",
    "ENDIF"
   ]
  },
  {
   "attachments": {},
   "cell_type": "markdown",
   "metadata": {},
   "source": [
    "[![](https://mermaid.ink/img/pako:eNptkVFrgzAQx7_KcU8WWtz6KKPDatoKm4pNGSXpQ6bpKqs6UmUM9bvPRmVlW56S-_3433GpMS4SiRYez8VnfBKqBOryHLpjG2xL7YgeJsMbZrMFLJnp-eGOQl5lr1KZhx4uNXQY3YfEsbcjBhpAROynwXK05dYDXMAdPLY9cq-o2ctLA4SZwY7-7dErftHAakx4uElY_SSsfyVAGLyQCOZj0lrPsWEmx_884x5MmE84jj7Rvmcw4rvjOjZ97aY36Nk8nGImVSbSpFtrfeUcy5PMJEeruyZCvXPkedt5oiqL7Vceo1WqSk6x-khEKd1UvCmRoXUU50tXlUlaFuq5_yf9Xe03gbp-kQ?type=png)](https://mermaid.live/edit#pako:eNptkVFrgzAQx7_KcU8WWtz6KKPDatoKm4pNGSXpQ6bpKqs6UmUM9bvPRmVlW56S-_3433GpMS4SiRYez8VnfBKqBOryHLpjG2xL7YgeJsMbZrMFLJnp-eGOQl5lr1KZhx4uNXQY3YfEsbcjBhpAROynwXK05dYDXMAdPLY9cq-o2ctLA4SZwY7-7dErftHAakx4uElY_SSsfyVAGLyQCOZj0lrPsWEmx_884x5MmE84jj7Rvmcw4rvjOjZ97aY36Nk8nGImVSbSpFtrfeUcy5PMJEeruyZCvXPkedt5oiqL7Vceo1WqSk6x-khEKd1UvCmRoXUU50tXlUlaFuq5_yf9Xe03gbp-kQ)"
   ]
  },
  {
   "cell_type": "code",
   "execution_count": 1,
   "metadata": {},
   "outputs": [
    {
     "name": "stdout",
     "output_type": "stream",
     "text": [
      "1.0\n",
      "(6.123233995736766e-17+1j)\n"
     ]
    }
   ],
   "source": [
    "number = input()\n",
    "number = float(number)\n",
    "if number > 0:\n",
    "    print(number)\n",
    "else:\n",
    "    if number < 0:\n",
    "        print(number ** 2)\n",
    "        print(number ** (1/2))"
   ]
  },
  {
   "cell_type": "markdown",
   "metadata": {},
   "source": [
    "## Exercise 13.3\n",
    "\n",
    "Study the following algorithm.\n",
    "\n",
    ">```\n",
    ">FUNCTION Mystery(m, n)\n",
    ">   r ← m – INT(m / n) * n\n",
    ">   IF r = 0\n",
    ">   THEN\n",
    ">       RETURN n\n",
    ">   ELSE\n",
    ">       RETURN Mystery(n, r)\n",
    ">   ENDIF\n",
    ">ENDFUNCTION\n",
    ">```\n",
    "\n",
    "`INT(Number)` returns the integer part of the parameter, `Number`. For example, `INT(4.2)` returns `4` and `INT(5.8)` returns 5.\n",
    "The function `Mystery` is called with\n",
    "\n",
    "> CALL Mystery(69,12)\n",
    "\n",
    "1. Produce a diagram that traces each step of the algorithm and the function calls. \n",
    "2. Implement the algorithm in Python."
   ]
  },
  {
   "attachments": {},
   "cell_type": "markdown",
   "metadata": {
    "dotnet_interactive": {
     "language": "csharp"
    },
    "polyglot_notebook": {
     "kernelName": "csharp"
    }
   },
   "source": [
    "|m|n|r|OUTPUT|\n",
    "|---|---|---|---|\n",
    "|69||||\n",
    "||12|||\n",
    "|||9||\n",
    "|12||||\n",
    "||9|||\n",
    "|||3||\n",
    "|9||||\n",
    "||3|||\n",
    "|||0||\n",
    "||||3|\n",
    "\n"
   ]
  },
  {
   "cell_type": "code",
   "execution_count": 4,
   "metadata": {},
   "outputs": [
    {
     "name": "stdout",
     "output_type": "stream",
     "text": [
      "3\n"
     ]
    }
   ],
   "source": [
    "def mystery(m, n):\n",
    "    r = m - int(m / n) * n\n",
    "    if r == 0:\n",
    "        return n\n",
    "    else:\n",
    "        return mystery(n, r)\n",
    "\n",
    "print(mystery(69, 12))"
   ]
  },
  {
   "attachments": {},
   "cell_type": "markdown",
   "metadata": {},
   "source": [
    "## Exercise 13.4 2019/A Level/P1/Q5 H2 Computing (Modified)\n",
    "\n",
    "The function `z` takes three integer parameters, `low`, `high`, `seek` and returns an integer value. It operates on the values in the elements of the array `A`.\n",
    "\n",
    ">```PSEUDOCODE\n",
    ">FUNCTION Z(low, high, seek, A) RETURNS INTEGER\n",
    ">    IF low > high THEN\n",
    ">        RETURN -1\n",
    ">   ENDIF\n",
    ">    mid ← low + INT((high-low)/2)\n",
    ">    IF seek = A[mid] THEN\n",
    ">        RETURN mid\n",
    ">    ELSE    \n",
    ">       IF seek < A[mid] THEN\n",
    ">            RETURN Z(low, mid-1, seek, A)\n",
    ">        ELSE\n",
    ">            RETURN Z(mid+1, high, seek, A)\n",
    ">        ENDIF\n",
    ">    ENDIF\n",
    ">ENDFUNCTION\n",
    "```"
   ]
  },
  {
   "cell_type": "markdown",
   "metadata": {},
   "source": [
    "1. State what lines `10` and `12` tell you about the function.\n",
    "2. State the purpose for the `RETURN` statements in lines `03` and `07` of function z.\n",
    "\n",
    "The values in each of the eight elements of the array `A` are:\n",
    ">```\n",
    ">| Element | 0  | 1 | 2  | 3  | 4  | 5   | 6   | 7   |\n",
    ">|---------|----|---|----|----|----|-----|-----|-----|\n",
    ">| Value   | -3 | 8 | 14 | 15 | 96 | 101 | 412 | 500 |\n",
    ">```\n",
    "\n",
    "3. Copy and then complete the trace table for the instruction:\n",
    "> OUTPUT Z(0, 7, 103, A)\n",
    ">```\n",
    ">| Function call | low | high | seek | mid | A[mid] | OUTPUT |\n",
    ">|---------------|-----|------|------|-----|--------|--------|\n",
    ">| 1             | 0   | 7    | 103  |     |        |        |\n",
    ">|               |     |      |      |     |        |        |\n",
    ">|               |     |      |      |     |        |        |\n",
    ">|               |     |      |      |     |        |        |\n",
    ">|               |     |      |      |     |        |        |\n",
    ">|               |     |      |      |     |        |        |\n",
    ">```\n",
    "\n",
    "4. Function `z` can return **two** different types of value. Explain what these represent."
   ]
  },
  {
   "cell_type": "code",
   "execution_count": null,
   "metadata": {
    "dotnet_interactive": {
     "language": "csharp"
    },
    "polyglot_notebook": {
     "kernelName": "csharp"
    }
   },
   "outputs": [],
   "source": [
    "#YOUR ANSWER HERE"
   ]
  },
  {
   "attachments": {},
   "cell_type": "markdown",
   "metadata": {},
   "source": [
    "## Exercise 13.5 2018/A Level/P1/Q2 H2 Computing\n",
    "\n",
    "The following algorithm calculates the average mark for a group of students.\n",
    "\n",
    ">```PSEUDOCODE\n",
    ">FOR Counter ← 1 TO NumberOfStudents\n",
    ">    Total ← 0\n",
    ">    INPUT Mark\n",
    ">    Total ← Total + Mark\n",
    ">ENDFOR\n",
    ">AVERAGE ← Total / NumberOfStudents\n",
    ">OUTPUT Average\n",
    "```"
   ]
  },
  {
   "cell_type": "markdown",
   "metadata": {},
   "source": [
    "1. There is an error in this algorithm causing an incorrect result. Describe the error and explain the chage required to correct this error. \n",
    "2. State the name of this type of error.\n",
    "3. The lowest mark in the exam is 0 and the highest is 100. Give an example from each of the appropriate test cases which could be used to test the algorithm.\n",
    "4. Name and describe a suitable technique that could be used to manually identify errors in the algorithm."
   ]
  },
  {
   "attachments": {},
   "cell_type": "markdown",
   "metadata": {
    "dotnet_interactive": {
     "language": "csharp"
    },
    "polyglot_notebook": {
     "kernelName": "csharp"
    }
   },
   "source": [
    "1. *`Total` gets reset to 0 at every iteration, causing `Total` only contain the value of the last marks*\n",
    "2. *This is a logic error*\n",
    "3. *Error Case: -10, Boundary Case: 0, Normal Case:10*\n",
    "4. "
   ]
  },
  {
   "attachments": {},
   "cell_type": "markdown",
   "metadata": {},
   "source": [
    "## Exercise 13.6 2018/NJC Prelim/P1/Q3 H2 Computing\n",
    "\n",
    "The following is a recursive function\n",
    "\n",
    ">```PSEUDOCODE\n",
    ">FUNCTION f(INTEGER a, INTEGER b)\n",
    ">    IF b = 0 THEN\n",
    ">        RETURN 1\n",
    ">    ELSE IF b = 1 THEN\n",
    ">        RETURN a\n",
    ">    ENDIF\n",
    ">    x ← f(a, b DIV 2)\n",
    ">    IF (b MOD 2) = 0 THEN\n",
    ">        RETURN x * x\n",
    ">    ELSE\n",
    ">        RETURN x * a * x\n",
    ">    ENDIF\n",
    ">ENDFUNCTION\n",
    ">```"
   ]
  },
  {
   "cell_type": "code",
   "execution_count": 7,
   "metadata": {},
   "outputs": [
    {
     "name": "stdout",
     "output_type": "stream",
     "text": [
      "81\n",
      "1\n"
     ]
    }
   ],
   "source": [
    "def f(a, b):\n",
    "    if b == 0:\n",
    "        return 1\n",
    "    elif b == 1:\n",
    "        return a\n",
    "    x = f(a, b // 2)\n",
    "    if b % 2 == 0:\n",
    "        return x ** 2\n",
    "    else:\n",
    "        return x ** 2 * a\n",
    "    \n",
    "print(f(3, 4))\n",
    "print(f(0, 0))"
   ]
  },
  {
   "attachments": {},
   "cell_type": "markdown",
   "metadata": {},
   "source": [
    "1.\tUsing the above function as an example, define recursion.\n",
    "2.\tPerform a dry-run of the above function using the call `f(3, 4)`. Show the resultant \ttrace tree.\n",
    "3.\tState the purpose of the specified function.\n",
    "4.\tIdentify one flaw in the above algorithm, and explain how this flaw may be addressed.\n",
    "5.\tDraw a flowchart depicting an iterative version of the specified function."
   ]
  },
  {
   "attachments": {},
   "cell_type": "markdown",
   "metadata": {
    "dotnet_interactive": {
     "language": "csharp"
    },
    "polyglot_notebook": {
     "kernelName": "csharp"
    }
   },
   "source": [
    "1. *Recursion is when a function calls itself in its code, this is evident on line 7 where the function f calls itself.*\n",
    "2.\n",
    "|function call|a|b|x|return|\n",
    "|---|---|---|---|---|\n",
    "|1|3||||\n",
    "|||4|||\n",
    "||||f(3, 2)||\n",
    "|2|3||||\n",
    "|||2|||\n",
    "||||f(3, 1)||\n",
    "|3|3||||\n",
    "|||1|||\n",
    "|||||3|\n",
    "|2|||3||\n",
    "|||||9|\n",
    "|3|||9||\n",
    "|||||81|\n",
    "3. To find the a ^ b\n",
    "4. 0 ^ 0 is not actually 1"
   ]
  }
 ],
 "metadata": {
  "kernelspec": {
   "display_name": "main",
   "language": "python",
   "name": "python3"
  },
  "language_info": {
   "codemirror_mode": {
    "name": "ipython",
    "version": 3
   },
   "file_extension": ".py",
   "mimetype": "text/x-python",
   "name": "python",
   "nbconvert_exporter": "python",
   "pygments_lexer": "ipython3",
   "version": "3.8.16"
  },
  "polyglot_notebook": {
   "kernelInfo": {
    "defaultKernelName": "csharp",
    "items": [
     {
      "aliases": [],
      "name": "csharp"
     }
    ]
   }
  }
 },
 "nbformat": 4,
 "nbformat_minor": 2
}
